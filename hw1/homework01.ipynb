{
 "cells": [
  {
   "cell_type": "markdown",
   "metadata": {
    "tags": [
     "AST"
    ]
   },
   "source": [
    "<style>\n",
    "    @media print{\n",
    "        body {\n",
    "            position:relative !important;\n",
    "        }\n",
    "        .celltag_new_page {\n",
    "            page-break-before: always !important;\n",
    "        }\n",
    "    }\n",
    "</style>\n",
    "# COMPSCI 527 Homework 1"
   ]
  },
  {
   "source": [
    "## **Group Members: Beck Addison, Shivam Kaul, Gin Wang**"
   ],
   "cell_type": "markdown",
   "metadata": {}
  },
  {
   "cell_type": "markdown",
   "metadata": {
    "tags": [
     "AT"
    ]
   },
   "source": [
    "### Problem 0 (3 points)"
   ]
  },
  {
   "cell_type": "markdown",
   "metadata": {
    "tags": [
     "AST"
    ]
   },
   "source": [
    "## Part 1: Correlation and Convolution Basics"
   ]
  },
  {
   "cell_type": "markdown",
   "metadata": {},
   "source": [
    "In general, correlation has the following formula:\n",
    "\n",
    "$$\n",
    "corr(r, c) = \\sum^{h}_{u = -h} \\sum^{h}_{v = -h} I(r + u, c + v)T(u, v)\n",
    "$$ \n",
    "\n",
    "while convolution has the formula:\n",
    "\n",
    "$$\n",
    "conv(r, c) = \\sum^{h}_{u = -h} \\sum^{h}_{v = -h} I(r - u, c - v)H(u, v)\n",
    "$$\n",
    "\n",
    "where, for some matrix with dimensions $R \\times C$ a \"window\" in the matrix is centered at $(r,c) \\in (R,C)$. Each pixel in the window spanning from $(r - h, c - h)$ to $(r + h, c + h)$ (where h is the \"radius\" of the window) is transformed by a kernel or template."
   ]
  },
  {
   "source": [
    "$% formulas for the stuff in 1.1\n",
    "\\newcommand{\\conv}[3]{\\text{conv}(#1, #2, \\text{'#3'})}\n",
    "\\newcommand{\\corr}[3]{\\text{corr}(#1, #2, \\text{'#3'})}\n",
    "\\newcommand{\\I}{\n",
    "    \\begin{bmatrix}\n",
    "    1 &  0 &  3 & -2 &  0 \\\\\n",
    "    0 &  2 & -1 &  4 &  0 \\\\\n",
    "    0 &  1 &  0 &  1 &  0 \\\\\n",
    "    2 & -2 &  0 &  1 & -1 \\\\\n",
    "    \\end{bmatrix}\n",
    "}\n",
    "\\newcommand{\\J}{\n",
    "    \\begin{bmatrix}\n",
    "    4 &  0 \\\\\n",
    "    1 & -5 \\\\\n",
    "    \\end{bmatrix}\n",
    "}\n",
    "\\newcommand{\\H}{\n",
    "    \\begin{bmatrix}\n",
    "    2 & 0 & 1 \\\\\n",
    "    1 & -1 & 3 \\\\\n",
    "    \\begin{bmatrix}\n",
    "}\n",
    "\\newcommand{\\K}{\n",
    "    \\begin{bmatrix}\n",
    "    1 & 0 & -1\n",
    "    \\end{bmatrix}\n",
    "}$"
   ],
   "cell_type": "markdown",
   "metadata": {}
  },
  {
   "cell_type": "markdown",
   "metadata": {
    "tags": [
     "AST"
    ]
   },
   "source": [
    "### Problem 1.1 (Exam Style)"
   ]
  },
  {
   "source": [
    "$\n",
    "\\corr{I}{H}{valid} = \n",
    "    \\begin{bmatrix}\n",
    "         0 & 13 &  1 \\\\\n",
    "        -2 & 12 & -3 \\\\\n",
    "         4 &  4 & -4 \\\\\n",
    "    \\end{bmatrix}\n",
    "$"
   ],
   "cell_type": "markdown",
   "metadata": {}
  },
  {
   "source": [
    "$\n",
    "\\conv{I}{H}{valid} =\n",
    "    \\begin{bmatrix}\n",
    "         4 &  5 & 10 \\\\\n",
    "        -3 & 14 & -7 \\\\\n",
    "         1 &  4 &  1 \\\\\n",
    "    \\end{bmatrix}\n",
    "$"
   ],
   "cell_type": "markdown",
   "metadata": {}
  },
  {
   "source": [
    "$\n",
    "\\conv{I}{K}{valid} = \n",
    "    \\begin{bmatrix}\n",
    "         2 & -2 & -3 \\\\\n",
    "        -1 &  2 &  1 \\\\\n",
    "         0 &  0 &  0 \\\\\n",
    "        -2 &  3 & -1 \\\\\n",
    "    \\end{bmatrix}\n",
    "$"
   ],
   "cell_type": "markdown",
   "metadata": {}
  },
  {
   "source": [
    "$\n",
    "\\conv{J}{H}{full} =\n",
    "    \\begin{bmatrix}\n",
    "         8 &   0 &  4 &   0 \\\\\n",
    "         6 & -14 & 13 &  -5 \\\\\n",
    "         1 &  -6 &  8 & -15 \\\\\n",
    "    \\end{bmatrix}\n",
    "$"
   ],
   "cell_type": "markdown",
   "metadata": {}
  },
  {
   "source": [
    "$\n",
    "\\corr{J}{H}{same} = \n",
    "    \\begin{bmatrix}\n",
    "        4 &   0 \\\\\n",
    "        2 & -10 \\\\\n",
    "    \\end{bmatrix}\n",
    "$"
   ],
   "cell_type": "markdown",
   "metadata": {}
  },
  {
   "cell_type": "markdown",
   "metadata": {
    "tags": [
     "AST"
    ]
   },
   "source": [
    "### Problem 1.2 (Exam Style)"
   ]
  },
  {
   "source": [
    "For some matrix $H$ to be separable, there must be some column vector  $\\vec{h_c}$ of dimension $m \\times 1$ and some row vector $\\vec{h_r}$ of dimension $1 \\times n$ for which $H$ is the product. In other words,\n",
    "\n",
    "$$ \\vec{h_r} \\times \\vec{h_c} = H $$\n",
    "\n",
    "For any separable matrix, *the rank of that matrix is therefore 1*, because each row is a scalar multiple of the other rows. In particular, if the given matrix $H$ is separable, the vectors $\\vec{h_r}$ and $\\vec{h_c}$ are:\n",
    "\n",
    "$ \\vec{h_r} = \\begin{bmatrix} 1 & -1 & 2 \\end{bmatrix} $\n",
    "\n",
    "$ \\vec{h_c} = \\begin{bmatrix} 1 \\\\ -3 \\\\ 0 \\end{bmatrix} $\n",
    "\n",
    "This means that the missing values for this matrix are \n",
    "\n",
    "$$\n",
    "\\begin{bmatrix}\n",
    "1 & -1 & 2 \\\\\n",
    "a &  3 & b \\\\\n",
    "c &  d & 0 \\\\\n",
    "\\end{bmatrix}\n",
    "\n",
    "\\rightarrow\n",
    "\n",
    "\\begin{bmatrix}\n",
    " 1 & -1 & 2 \\\\\n",
    "-3 &  3 & 6 \\\\\n",
    " 0 &  0 & 0 \\\\\n",
    "\\end{bmatrix}\n",
    "\n",
    "$$\n",
    "\n",
    "$$(a, b, c, d) = (-3, -6, 0, 0)$$ "
   ],
   "cell_type": "markdown",
   "metadata": {}
  },
  {
   "cell_type": "markdown",
   "metadata": {
    "tags": [
     "AST"
    ]
   },
   "source": [
    "### Problem 1.3 (Exam Style)"
   ]
  },
  {
   "source": [
    "A kernel $H(x,y)$ is separable if the kernel can be equated to $H(x,y) = h(x)l(y)$.\n",
    "\n",
    "By extension, a kernel is not separable if for any $(x_0,y_0) \\in (x,y)$ the following equality is not preserved:\n",
    "\n",
    "$$ H(x_0, y_0)H(x,y) = H(x,y_0)H(x_0, y) $$"
   ],
   "cell_type": "markdown",
   "metadata": {}
  },
  {
   "source": [
    "$D(x,y) = xe^{x^2 + y}$:\n",
    "\n",
    "$$ d_1(x) = xe^{x^2} $$\n",
    "$$ d_2(y) = e^y $$"
   ],
   "cell_type": "markdown",
   "metadata": {}
  },
  {
   "source": [
    "$ L(x,y) = (x^2 + y^2)e^{x^2 + y^2} $:\n",
    "\n",
    "This function is not multiplicatively separable - there is no way to generate the equality $L(x,y) = l_1(x)l_2(y)$."
   ],
   "cell_type": "markdown",
   "metadata": {}
  },
  {
   "source": [
    "$U(x,y) = 1$:\n",
    "\n",
    "$$u_1(x) = 1$$\n",
    "$$u_2(y) = 1$$"
   ],
   "cell_type": "markdown",
   "metadata": {}
  },
  {
   "cell_type": "markdown",
   "metadata": {},
   "source": [
    "$L(x,y) = (x^2+y^2)e^{x^2+y^2}$:\n",
    "\n",
    "$$L(x,y) = \\frac{e^{x^2+y^2}}{dx dy}$$\n",
    "$$L(x,y) = \\frac{e^{x^2}e^{y^2}}{dx dy}$$\n",
    "$$g(x) =\\frac{e^{x^2}}{dx}, g(y) =\\frac{e^{y^2}}{dy}$$"
   ]
  },
  {
   "source": [
    "# Part 2: Implementing Convolution"
   ],
   "cell_type": "markdown",
   "metadata": {}
  },
  {
   "cell_type": "code",
   "execution_count": 52,
   "metadata": {
    "tags": [
     "AST"
    ]
   },
   "outputs": [],
   "source": [
    "import numpy as np\n",
    "import scipy.signal as ss\n",
    "from time import perf_counter as stopwatch\n",
    "\n",
    "\n",
    "def add_timer(f):\n",
    "    def wrapper(*args, **kwargs):\n",
    "        tic = stopwatch()\n",
    "        ret = f(*args, **kwargs)\n",
    "        t = stopwatch() - tic\n",
    "        return ret, t\n",
    "\n",
    "    return wrapper\n",
    "\n",
    "\n",
    "@add_timer\n",
    "def convolution(f, h, mode='valid'):\n",
    "    assert f.ndim == h.ndim, 'inputs must have the same number of dimensions'\n",
    "    g = ss.convolve(f, h, mode=mode, method='direct')\n",
    "    return g.astype(f.dtype)"
   ]
  },
  {
   "cell_type": "code",
   "execution_count": 53,
   "metadata": {
    "tags": [
     "AST"
    ]
   },
   "outputs": [],
   "source": [
    "from urllib.request import urlretrieve as retrieve\n",
    "from os import path as osp\n",
    "from PIL import Image\n",
    "from matplotlib import pyplot as plt\n",
    "%matplotlib inline\n",
    "\n",
    "\n",
    "def show_image(img, name=None):\n",
    "    plt.imshow(img, cmap='gray')\n",
    "    if name is not None:\n",
    "        plt.title(name)\n",
    "    plt.axis('off')\n",
    "    \n",
    "\n",
    "local_file_name = 'breakfast.png'\n",
    "if not osp.exists(local_file_name):\n",
    "    image_url = 'https://www2.cs.duke.edu/courses/spring21/' +\\\n",
    "                'compsci527/homework/1/breakfast.png'\n",
    "    retrieve(image_url, local_file_name)\n",
    "image = np.array(Image.open(local_file_name))"
   ]
  },
  {
   "cell_type": "code",
   "execution_count": null,
   "metadata": {
    "scrolled": false,
    "tags": [
     "AST"
    ]
   },
   "outputs": [],
   "source": [
    "m = n = 16\n",
    "box = np.ones((m, n), dtype=float) / (m * n)\n",
    "smooth, process_time = convolution(image, box)\n",
    "print('The convolution took {:.3f} seconds to compute'.format(process_time))\n",
    "\n",
    "plt.figure(figsize=(16, 7))\n",
    "for plot, (img, name) in enumerate(((image, 'input'),\n",
    "                                    (smooth, 'output with m = {}'.format(m)))): \n",
    "    plt.subplot(1, 2, plot + 1)\n",
    "    show_image(img, name)\n",
    "plt.show()"
   ]
  },
  {
   "cell_type": "code",
   "execution_count": 54,
   "metadata": {
    "tags": [
     "AST"
    ]
   },
   "outputs": [],
   "source": [
    "def largest_difference(i, j):\n",
    "    return np.amax(np.abs(i.astype(int) - j.astype(int)))"
   ]
  },
  {
   "cell_type": "markdown",
   "metadata": {
    "tags": [
     "AST"
    ]
   },
   "source": [
    "### Problem 2.1"
   ]
  },
  {
   "cell_type": "code",
   "execution_count": 145,
   "metadata": {},
   "outputs": [],
   "source": [
    "@add_timer\n",
    "def python_convolution(f, h):\n",
    "    '''\n",
    "    Instructions for 'valid' convolution\n",
    "    '''\n",
    "\n",
    "    assert f.ndim == 2, 'input array must be two-dimensional'\n",
    "    assert h.ndim == 2, 'kernel must be two-dimensional' \n",
    "\n",
    "    #get input matrices' data\n",
    "    f_rows, f_cols = len(f), len(f[0])\n",
    "    h_rows, h_cols = len(h), len(h[0])\n",
    "\n",
    "    #generate output matrix\n",
    "    output_rows, output_cols = f_rows - h_rows + 1, f_cols - h_cols + 1\n",
    "    output_matrix = np.zeros(shape = (output_rows, output_cols))\n",
    "\n",
    "    for r in range(output_rows):\n",
    "        for c in range(output_cols):        \n",
    "            for h_row in range(h_rows):\n",
    "                for h_col in range(h_cols):\n",
    "                    output_matrix[r, c] = output_matrix[r, c] + h[h_rows - (h_row + 1), h_cols - (h_col + 1)] * f[r + h_row, c + h_col]\n",
    "    return output_matrix.astype(dtype = type(f))\n",
    "\n",
    "@add_timer\n",
    "def scipy_convolve(image, kernel, mode = 'valid'):\n",
    "    return ss.convolve(image, kernel, mode)\n"
   ]
  },
  {
   "source": [
    "#### Runtime comparison of `python_convolution` and `scipy.signal.convolve`:"
   ],
   "cell_type": "markdown",
   "metadata": {}
  },
  {
   "source": [
    "box_kern = np.ones((3,4))\n",
    "box_kern = box_kern/np.sum(box_kern)"
   ],
   "cell_type": "code",
   "metadata": {},
   "execution_count": 146,
   "outputs": []
  },
  {
   "cell_type": "code",
   "execution_count": 149,
   "metadata": {},
   "outputs": [],
   "source": [
    "py_conv_image, py_conv_time1 = python_convolution(image, box_kern)\n",
    "sc_conv_image, sc_conv_time1 = scipy_convolve(image, box_kern)"
   ]
  },
  {
   "cell_type": "code",
   "execution_count": 151,
   "metadata": {},
   "outputs": [],
   "source": [
    "py_sc_diff = largest_difference(py_conv_image, sc_conv_image)"
   ]
  },
  {
   "cell_type": "code",
   "execution_count": 165,
   "metadata": {},
   "outputs": [
    {
     "output_type": "stream",
     "name": "stdout",
     "text": [
      "Python time: 4.566 s, SciPy time: 0.034 s, Ratio: 135.705 (Python:SciPy), Maximum output difference: 1\n"
     ]
    }
   ],
   "source": [
    "print(\"Python time: {:.3f} s, SciPy time: {:.3f} s, Ratio: {:.3f} (Python:SciPy), Maximum output difference: {:d}\".format(py_conv_time1, sc_conv_time1, py_conv_time1/sc_conv_time1, py_sc_diff))"
   ]
  },
  {
   "cell_type": "markdown",
   "metadata": {
    "tags": [
     "AST"
    ]
   },
   "source": [
    "### Problem 2.2"
   ]
  },
  {
   "cell_type": "code",
   "execution_count": 56,
   "metadata": {},
   "outputs": [],
   "source": [
    "@add_timer\n",
    "def separable_convolution(f, h, mode = \"valid\"): \n",
    "    m_by_one, one_by_n = h\n",
    "    \n",
    "    convolution_intermediate = ss.convolve(\n",
    "        f,\n",
    "        m_by_one,\n",
    "        mode)\n",
    "    \n",
    "    convolution_final = ss.convolve(\n",
    "        convolution_intermediate,\n",
    "        one_by_n,\n",
    "        mode)\n",
    "    return convolution_final.astype(dtype = type(f))\n"
   ]
  },
  {
   "cell_type": "code",
   "execution_count": 57,
   "metadata": {},
   "outputs": [],
   "source": [
    "round_val = 3\n",
    "m = [2**i for i in range(1,7)]\n",
    "\n",
    "data = {\n",
    "    'm': [],\n",
    "    'pyconv_times': [],\n",
    "    'spconv_times': [],\n",
    "    'differences': []\n",
    "}\n",
    "for m_val in m:\n",
    "    \n",
    "    box_filter_m_by_one = np.ones((m_val, 1), dtype = float) / m_val\n",
    "    box_filter_one_by_n = np.ones((1, m_val), dtype = float) / m_val\n",
    "    box_filter = box_filter_m_by_one * box_filter_one_by_n\n",
    "    \n",
    "    pyconv_image, pyconv_time = python_convolution(image, box_filter)\n",
    "    spconv_image, spconv_time = separable_convolution(image, (box_filter_m_by_one, box_filter_one_by_n))\n",
    "    largest_diff = largest_difference(pyconv_image, spconv_image)\n",
    "    \n",
    "    data['m'].append(m_val)\n",
    "    data['pyconv_times'].append(round(pyconv_time, round_val))\n",
    "    data['spconv_times'].append(round(spconv_time, round_val))\n",
    "    data['differences'].append(round(largest_diff, round_val))"
   ]
  },
  {
   "cell_type": "code",
   "execution_count": 172,
   "metadata": {},
   "outputs": [
    {
     "output_type": "display_data",
     "data": {
      "text/plain": "<IPython.core.display.HTML object>",
      "text/html": "<table>\n<thead>\n<tr><th style=\"text-align: right;\">  box kernel size (m)</th><th style=\"text-align: right;\">  python_convolution times (s)</th><th style=\"text-align: right;\">  separable_convolution times (s)</th><th style=\"text-align: right;\">  maximum output difference</th></tr>\n</thead>\n<tbody>\n<tr><td style=\"text-align: right;\">                    2</td><td style=\"text-align: right;\">                         1.513</td><td style=\"text-align: right;\">                            0.035</td><td style=\"text-align: right;\">                          0</td></tr>\n<tr><td style=\"text-align: right;\">                    4</td><td style=\"text-align: right;\">                         5.294</td><td style=\"text-align: right;\">                            0.022</td><td style=\"text-align: right;\">                          1</td></tr>\n<tr><td style=\"text-align: right;\">                    8</td><td style=\"text-align: right;\">                        20.442</td><td style=\"text-align: right;\">                            0.021</td><td style=\"text-align: right;\">                          1</td></tr>\n<tr><td style=\"text-align: right;\">                   16</td><td style=\"text-align: right;\">                        77.667</td><td style=\"text-align: right;\">                            0.021</td><td style=\"text-align: right;\">                          1</td></tr>\n<tr><td style=\"text-align: right;\">                   32</td><td style=\"text-align: right;\">                       317.505</td><td style=\"text-align: right;\">                            0.033</td><td style=\"text-align: right;\">                          1</td></tr>\n<tr><td style=\"text-align: right;\">                   64</td><td style=\"text-align: right;\">                      1150.36 </td><td style=\"text-align: right;\">                            0.024</td><td style=\"text-align: right;\">                          1</td></tr>\n</tbody>\n</table>"
     },
     "metadata": {}
    }
   ],
   "source": [
    "from tabulate import tabulate\n",
    "from IPython.core.display import display, HTML\n",
    "\n",
    "tb1_2_2 = tabulate(data, headers = [\"box kernel size (m)\", \"python_convolution times (s)\", \"separable_convolution times (s)\", \"maximum output difference\"], tablefmt = \"html\")\n",
    "\n",
    "display(HTML(tb1_2_2))"
   ]
  },
  {
   "cell_type": "code",
   "execution_count": 167,
   "metadata": {},
   "outputs": [
    {
     "output_type": "execute_result",
     "data": {
      "text/plain": [
       "<matplotlib.legend.Legend at 0x1b35f987280>"
      ]
     },
     "metadata": {},
     "execution_count": 167
    },
    {
     "output_type": "display_data",
     "data": {
      "text/plain": "<Figure size 432x288 with 1 Axes>",
      "image/svg+xml": "<?xml version=\"1.0\" encoding=\"utf-8\" standalone=\"no\"?>\r\n<!DOCTYPE svg PUBLIC \"-//W3C//DTD SVG 1.1//EN\"\r\n  \"http://www.w3.org/Graphics/SVG/1.1/DTD/svg11.dtd\">\r\n<!-- Created with matplotlib (https://matplotlib.org/) -->\r\n<svg height=\"277.794375pt\" version=\"1.1\" viewBox=\"0 0 443.949375 277.794375\" width=\"443.949375pt\" xmlns=\"http://www.w3.org/2000/svg\" xmlns:xlink=\"http://www.w3.org/1999/xlink\">\r\n <metadata>\r\n  <rdf:RDF xmlns:cc=\"http://creativecommons.org/ns#\" xmlns:dc=\"http://purl.org/dc/elements/1.1/\" xmlns:rdf=\"http://www.w3.org/1999/02/22-rdf-syntax-ns#\">\r\n   <cc:Work>\r\n    <dc:type rdf:resource=\"http://purl.org/dc/dcmitype/StillImage\"/>\r\n    <dc:date>2021-02-03T16:52:28.710141</dc:date>\r\n    <dc:format>image/svg+xml</dc:format>\r\n    <dc:creator>\r\n     <cc:Agent>\r\n      <dc:title>Matplotlib v3.3.2, https://matplotlib.org/</dc:title>\r\n     </cc:Agent>\r\n    </dc:creator>\r\n   </cc:Work>\r\n  </rdf:RDF>\r\n </metadata>\r\n <defs>\r\n  <style type=\"text/css\">*{stroke-linecap:butt;stroke-linejoin:round;}</style>\r\n </defs>\r\n <g id=\"figure_1\">\r\n  <g id=\"patch_1\">\r\n   <path d=\"M 0 277.794375 \r\nL 443.949375 277.794375 \r\nL 443.949375 0 \r\nL 0 0 \r\nz\r\n\" style=\"fill:none;\"/>\r\n  </g>\r\n  <g id=\"axes_1\">\r\n   <g id=\"patch_2\">\r\n    <path d=\"M 54.574687 240.238125 \r\nL 389.374687 240.238125 \r\nL 389.374687 22.798125 \r\nL 54.574687 22.798125 \r\nz\r\n\" style=\"fill:#ffffff;\"/>\r\n   </g>\r\n   <g id=\"matplotlib.axis_1\">\r\n    <g id=\"xtick_1\">\r\n     <g id=\"line2d_1\">\r\n      <defs>\r\n       <path d=\"M 0 0 \r\nL 0 3.5 \r\n\" id=\"me0d75c2f28\" style=\"stroke:#000000;stroke-width:0.8;\"/>\r\n      </defs>\r\n      <g>\r\n       <use style=\"stroke:#000000;stroke-width:0.8;\" x=\"59.974687\" xlink:href=\"#me0d75c2f28\" y=\"240.238125\"/>\r\n      </g>\r\n     </g>\r\n     <g id=\"text_1\">\r\n      <!-- 0 -->\r\n      <g transform=\"translate(56.793437 254.836563)scale(0.1 -0.1)\">\r\n       <defs>\r\n        <path d=\"M 31.78125 66.40625 \r\nQ 24.171875 66.40625 20.328125 58.90625 \r\nQ 16.5 51.421875 16.5 36.375 \r\nQ 16.5 21.390625 20.328125 13.890625 \r\nQ 24.171875 6.390625 31.78125 6.390625 \r\nQ 39.453125 6.390625 43.28125 13.890625 \r\nQ 47.125 21.390625 47.125 36.375 \r\nQ 47.125 51.421875 43.28125 58.90625 \r\nQ 39.453125 66.40625 31.78125 66.40625 \r\nz\r\nM 31.78125 74.21875 \r\nQ 44.046875 74.21875 50.515625 64.515625 \r\nQ 56.984375 54.828125 56.984375 36.375 \r\nQ 56.984375 17.96875 50.515625 8.265625 \r\nQ 44.046875 -1.421875 31.78125 -1.421875 \r\nQ 19.53125 -1.421875 13.0625 8.265625 \r\nQ 6.59375 17.96875 6.59375 36.375 \r\nQ 6.59375 54.828125 13.0625 64.515625 \r\nQ 19.53125 74.21875 31.78125 74.21875 \r\nz\r\n\" id=\"DejaVuSans-48\"/>\r\n       </defs>\r\n       <use xlink:href=\"#DejaVuSans-48\"/>\r\n      </g>\r\n     </g>\r\n    </g>\r\n    <g id=\"xtick_2\">\r\n     <g id=\"line2d_2\">\r\n      <g>\r\n       <use style=\"stroke:#000000;stroke-width:0.8;\" x=\"109.065597\" xlink:href=\"#me0d75c2f28\" y=\"240.238125\"/>\r\n      </g>\r\n     </g>\r\n     <g id=\"text_2\">\r\n      <!-- 10 -->\r\n      <g transform=\"translate(102.703097 254.836563)scale(0.1 -0.1)\">\r\n       <defs>\r\n        <path d=\"M 12.40625 8.296875 \r\nL 28.515625 8.296875 \r\nL 28.515625 63.921875 \r\nL 10.984375 60.40625 \r\nL 10.984375 69.390625 \r\nL 28.421875 72.90625 \r\nL 38.28125 72.90625 \r\nL 38.28125 8.296875 \r\nL 54.390625 8.296875 \r\nL 54.390625 0 \r\nL 12.40625 0 \r\nz\r\n\" id=\"DejaVuSans-49\"/>\r\n       </defs>\r\n       <use xlink:href=\"#DejaVuSans-49\"/>\r\n       <use x=\"63.623047\" xlink:href=\"#DejaVuSans-48\"/>\r\n      </g>\r\n     </g>\r\n    </g>\r\n    <g id=\"xtick_3\">\r\n     <g id=\"line2d_3\">\r\n      <g>\r\n       <use style=\"stroke:#000000;stroke-width:0.8;\" x=\"158.156506\" xlink:href=\"#me0d75c2f28\" y=\"240.238125\"/>\r\n      </g>\r\n     </g>\r\n     <g id=\"text_3\">\r\n      <!-- 20 -->\r\n      <g transform=\"translate(151.794006 254.836563)scale(0.1 -0.1)\">\r\n       <defs>\r\n        <path d=\"M 19.1875 8.296875 \r\nL 53.609375 8.296875 \r\nL 53.609375 0 \r\nL 7.328125 0 \r\nL 7.328125 8.296875 \r\nQ 12.9375 14.109375 22.625 23.890625 \r\nQ 32.328125 33.6875 34.8125 36.53125 \r\nQ 39.546875 41.84375 41.421875 45.53125 \r\nQ 43.3125 49.21875 43.3125 52.78125 \r\nQ 43.3125 58.59375 39.234375 62.25 \r\nQ 35.15625 65.921875 28.609375 65.921875 \r\nQ 23.96875 65.921875 18.8125 64.3125 \r\nQ 13.671875 62.703125 7.8125 59.421875 \r\nL 7.8125 69.390625 \r\nQ 13.765625 71.78125 18.9375 73 \r\nQ 24.125 74.21875 28.421875 74.21875 \r\nQ 39.75 74.21875 46.484375 68.546875 \r\nQ 53.21875 62.890625 53.21875 53.421875 \r\nQ 53.21875 48.921875 51.53125 44.890625 \r\nQ 49.859375 40.875 45.40625 35.40625 \r\nQ 44.1875 33.984375 37.640625 27.21875 \r\nQ 31.109375 20.453125 19.1875 8.296875 \r\nz\r\n\" id=\"DejaVuSans-50\"/>\r\n       </defs>\r\n       <use xlink:href=\"#DejaVuSans-50\"/>\r\n       <use x=\"63.623047\" xlink:href=\"#DejaVuSans-48\"/>\r\n      </g>\r\n     </g>\r\n    </g>\r\n    <g id=\"xtick_4\">\r\n     <g id=\"line2d_4\">\r\n      <g>\r\n       <use style=\"stroke:#000000;stroke-width:0.8;\" x=\"207.247415\" xlink:href=\"#me0d75c2f28\" y=\"240.238125\"/>\r\n      </g>\r\n     </g>\r\n     <g id=\"text_4\">\r\n      <!-- 30 -->\r\n      <g transform=\"translate(200.884915 254.836563)scale(0.1 -0.1)\">\r\n       <defs>\r\n        <path d=\"M 40.578125 39.3125 \r\nQ 47.65625 37.796875 51.625 33 \r\nQ 55.609375 28.21875 55.609375 21.1875 \r\nQ 55.609375 10.40625 48.1875 4.484375 \r\nQ 40.765625 -1.421875 27.09375 -1.421875 \r\nQ 22.515625 -1.421875 17.65625 -0.515625 \r\nQ 12.796875 0.390625 7.625 2.203125 \r\nL 7.625 11.71875 \r\nQ 11.71875 9.328125 16.59375 8.109375 \r\nQ 21.484375 6.890625 26.8125 6.890625 \r\nQ 36.078125 6.890625 40.9375 10.546875 \r\nQ 45.796875 14.203125 45.796875 21.1875 \r\nQ 45.796875 27.640625 41.28125 31.265625 \r\nQ 36.765625 34.90625 28.71875 34.90625 \r\nL 20.21875 34.90625 \r\nL 20.21875 43.015625 \r\nL 29.109375 43.015625 \r\nQ 36.375 43.015625 40.234375 45.921875 \r\nQ 44.09375 48.828125 44.09375 54.296875 \r\nQ 44.09375 59.90625 40.109375 62.90625 \r\nQ 36.140625 65.921875 28.71875 65.921875 \r\nQ 24.65625 65.921875 20.015625 65.03125 \r\nQ 15.375 64.15625 9.8125 62.3125 \r\nL 9.8125 71.09375 \r\nQ 15.4375 72.65625 20.34375 73.4375 \r\nQ 25.25 74.21875 29.59375 74.21875 \r\nQ 40.828125 74.21875 47.359375 69.109375 \r\nQ 53.90625 64.015625 53.90625 55.328125 \r\nQ 53.90625 49.265625 50.4375 45.09375 \r\nQ 46.96875 40.921875 40.578125 39.3125 \r\nz\r\n\" id=\"DejaVuSans-51\"/>\r\n       </defs>\r\n       <use xlink:href=\"#DejaVuSans-51\"/>\r\n       <use x=\"63.623047\" xlink:href=\"#DejaVuSans-48\"/>\r\n      </g>\r\n     </g>\r\n    </g>\r\n    <g id=\"xtick_5\">\r\n     <g id=\"line2d_5\">\r\n      <g>\r\n       <use style=\"stroke:#000000;stroke-width:0.8;\" x=\"256.338324\" xlink:href=\"#me0d75c2f28\" y=\"240.238125\"/>\r\n      </g>\r\n     </g>\r\n     <g id=\"text_5\">\r\n      <!-- 40 -->\r\n      <g transform=\"translate(249.975824 254.836563)scale(0.1 -0.1)\">\r\n       <defs>\r\n        <path d=\"M 37.796875 64.3125 \r\nL 12.890625 25.390625 \r\nL 37.796875 25.390625 \r\nz\r\nM 35.203125 72.90625 \r\nL 47.609375 72.90625 \r\nL 47.609375 25.390625 \r\nL 58.015625 25.390625 \r\nL 58.015625 17.1875 \r\nL 47.609375 17.1875 \r\nL 47.609375 0 \r\nL 37.796875 0 \r\nL 37.796875 17.1875 \r\nL 4.890625 17.1875 \r\nL 4.890625 26.703125 \r\nz\r\n\" id=\"DejaVuSans-52\"/>\r\n       </defs>\r\n       <use xlink:href=\"#DejaVuSans-52\"/>\r\n       <use x=\"63.623047\" xlink:href=\"#DejaVuSans-48\"/>\r\n      </g>\r\n     </g>\r\n    </g>\r\n    <g id=\"xtick_6\">\r\n     <g id=\"line2d_6\">\r\n      <g>\r\n       <use style=\"stroke:#000000;stroke-width:0.8;\" x=\"305.429233\" xlink:href=\"#me0d75c2f28\" y=\"240.238125\"/>\r\n      </g>\r\n     </g>\r\n     <g id=\"text_6\">\r\n      <!-- 50 -->\r\n      <g transform=\"translate(299.066733 254.836563)scale(0.1 -0.1)\">\r\n       <defs>\r\n        <path d=\"M 10.796875 72.90625 \r\nL 49.515625 72.90625 \r\nL 49.515625 64.59375 \r\nL 19.828125 64.59375 \r\nL 19.828125 46.734375 \r\nQ 21.96875 47.46875 24.109375 47.828125 \r\nQ 26.265625 48.1875 28.421875 48.1875 \r\nQ 40.625 48.1875 47.75 41.5 \r\nQ 54.890625 34.8125 54.890625 23.390625 \r\nQ 54.890625 11.625 47.5625 5.09375 \r\nQ 40.234375 -1.421875 26.90625 -1.421875 \r\nQ 22.3125 -1.421875 17.546875 -0.640625 \r\nQ 12.796875 0.140625 7.71875 1.703125 \r\nL 7.71875 11.625 \r\nQ 12.109375 9.234375 16.796875 8.0625 \r\nQ 21.484375 6.890625 26.703125 6.890625 \r\nQ 35.15625 6.890625 40.078125 11.328125 \r\nQ 45.015625 15.765625 45.015625 23.390625 \r\nQ 45.015625 31 40.078125 35.4375 \r\nQ 35.15625 39.890625 26.703125 39.890625 \r\nQ 22.75 39.890625 18.8125 39.015625 \r\nQ 14.890625 38.140625 10.796875 36.28125 \r\nz\r\n\" id=\"DejaVuSans-53\"/>\r\n       </defs>\r\n       <use xlink:href=\"#DejaVuSans-53\"/>\r\n       <use x=\"63.623047\" xlink:href=\"#DejaVuSans-48\"/>\r\n      </g>\r\n     </g>\r\n    </g>\r\n    <g id=\"xtick_7\">\r\n     <g id=\"line2d_7\">\r\n      <g>\r\n       <use style=\"stroke:#000000;stroke-width:0.8;\" x=\"354.520142\" xlink:href=\"#me0d75c2f28\" y=\"240.238125\"/>\r\n      </g>\r\n     </g>\r\n     <g id=\"text_7\">\r\n      <!-- 60 -->\r\n      <g transform=\"translate(348.157642 254.836563)scale(0.1 -0.1)\">\r\n       <defs>\r\n        <path d=\"M 33.015625 40.375 \r\nQ 26.375 40.375 22.484375 35.828125 \r\nQ 18.609375 31.296875 18.609375 23.390625 \r\nQ 18.609375 15.53125 22.484375 10.953125 \r\nQ 26.375 6.390625 33.015625 6.390625 \r\nQ 39.65625 6.390625 43.53125 10.953125 \r\nQ 47.40625 15.53125 47.40625 23.390625 \r\nQ 47.40625 31.296875 43.53125 35.828125 \r\nQ 39.65625 40.375 33.015625 40.375 \r\nz\r\nM 52.59375 71.296875 \r\nL 52.59375 62.3125 \r\nQ 48.875 64.0625 45.09375 64.984375 \r\nQ 41.3125 65.921875 37.59375 65.921875 \r\nQ 27.828125 65.921875 22.671875 59.328125 \r\nQ 17.53125 52.734375 16.796875 39.40625 \r\nQ 19.671875 43.65625 24.015625 45.921875 \r\nQ 28.375 48.1875 33.59375 48.1875 \r\nQ 44.578125 48.1875 50.953125 41.515625 \r\nQ 57.328125 34.859375 57.328125 23.390625 \r\nQ 57.328125 12.15625 50.6875 5.359375 \r\nQ 44.046875 -1.421875 33.015625 -1.421875 \r\nQ 20.359375 -1.421875 13.671875 8.265625 \r\nQ 6.984375 17.96875 6.984375 36.375 \r\nQ 6.984375 53.65625 15.1875 63.9375 \r\nQ 23.390625 74.21875 37.203125 74.21875 \r\nQ 40.921875 74.21875 44.703125 73.484375 \r\nQ 48.484375 72.75 52.59375 71.296875 \r\nz\r\n\" id=\"DejaVuSans-54\"/>\r\n       </defs>\r\n       <use xlink:href=\"#DejaVuSans-54\"/>\r\n       <use x=\"63.623047\" xlink:href=\"#DejaVuSans-48\"/>\r\n      </g>\r\n     </g>\r\n    </g>\r\n    <g id=\"text_8\">\r\n     <!-- m -->\r\n     <g transform=\"translate(217.104375 268.514687)scale(0.1 -0.1)\">\r\n      <defs>\r\n       <path d=\"M 52 44.1875 \r\nQ 55.375 50.25 60.0625 53.125 \r\nQ 64.75 56 71.09375 56 \r\nQ 79.640625 56 84.28125 50.015625 \r\nQ 88.921875 44.046875 88.921875 33.015625 \r\nL 88.921875 0 \r\nL 79.890625 0 \r\nL 79.890625 32.71875 \r\nQ 79.890625 40.578125 77.09375 44.375 \r\nQ 74.3125 48.1875 68.609375 48.1875 \r\nQ 61.625 48.1875 57.5625 43.546875 \r\nQ 53.515625 38.921875 53.515625 30.90625 \r\nL 53.515625 0 \r\nL 44.484375 0 \r\nL 44.484375 32.71875 \r\nQ 44.484375 40.625 41.703125 44.40625 \r\nQ 38.921875 48.1875 33.109375 48.1875 \r\nQ 26.21875 48.1875 22.15625 43.53125 \r\nQ 18.109375 38.875 18.109375 30.90625 \r\nL 18.109375 0 \r\nL 9.078125 0 \r\nL 9.078125 54.6875 \r\nL 18.109375 54.6875 \r\nL 18.109375 46.1875 \r\nQ 21.1875 51.21875 25.484375 53.609375 \r\nQ 29.78125 56 35.6875 56 \r\nQ 41.65625 56 45.828125 52.96875 \r\nQ 50 49.953125 52 44.1875 \r\nz\r\n\" id=\"DejaVuSans-109\"/>\r\n      </defs>\r\n      <use xlink:href=\"#DejaVuSans-109\"/>\r\n     </g>\r\n    </g>\r\n   </g>\r\n   <g id=\"matplotlib.axis_2\">\r\n    <g id=\"ytick_1\">\r\n     <g id=\"line2d_8\">\r\n      <defs>\r\n       <path d=\"M 0 0 \r\nL -3.5 0 \r\n\" id=\"m33a25de6d4\" style=\"stroke:#000000;stroke-width:0.8;\"/>\r\n      </defs>\r\n      <g>\r\n       <use style=\"stroke:#000000;stroke-width:0.8;\" x=\"54.574687\" xlink:href=\"#m33a25de6d4\" y=\"230.358097\"/>\r\n      </g>\r\n     </g>\r\n     <g id=\"text_9\">\r\n      <!-- 0 -->\r\n      <g transform=\"translate(41.212187 234.157316)scale(0.1 -0.1)\">\r\n       <use xlink:href=\"#DejaVuSans-48\"/>\r\n      </g>\r\n     </g>\r\n    </g>\r\n    <g id=\"ytick_2\">\r\n     <g id=\"line2d_9\">\r\n      <g>\r\n       <use style=\"stroke:#000000;stroke-width:0.8;\" x=\"54.574687\" xlink:href=\"#m33a25de6d4\" y=\"195.990482\"/>\r\n      </g>\r\n     </g>\r\n     <g id=\"text_10\">\r\n      <!-- 200 -->\r\n      <g transform=\"translate(28.487187 199.789701)scale(0.1 -0.1)\">\r\n       <use xlink:href=\"#DejaVuSans-50\"/>\r\n       <use x=\"63.623047\" xlink:href=\"#DejaVuSans-48\"/>\r\n       <use x=\"127.246094\" xlink:href=\"#DejaVuSans-48\"/>\r\n      </g>\r\n     </g>\r\n    </g>\r\n    <g id=\"ytick_3\">\r\n     <g id=\"line2d_10\">\r\n      <g>\r\n       <use style=\"stroke:#000000;stroke-width:0.8;\" x=\"54.574687\" xlink:href=\"#m33a25de6d4\" y=\"161.622867\"/>\r\n      </g>\r\n     </g>\r\n     <g id=\"text_11\">\r\n      <!-- 400 -->\r\n      <g transform=\"translate(28.487187 165.422086)scale(0.1 -0.1)\">\r\n       <use xlink:href=\"#DejaVuSans-52\"/>\r\n       <use x=\"63.623047\" xlink:href=\"#DejaVuSans-48\"/>\r\n       <use x=\"127.246094\" xlink:href=\"#DejaVuSans-48\"/>\r\n      </g>\r\n     </g>\r\n    </g>\r\n    <g id=\"ytick_4\">\r\n     <g id=\"line2d_11\">\r\n      <g>\r\n       <use style=\"stroke:#000000;stroke-width:0.8;\" x=\"54.574687\" xlink:href=\"#m33a25de6d4\" y=\"127.255252\"/>\r\n      </g>\r\n     </g>\r\n     <g id=\"text_12\">\r\n      <!-- 600 -->\r\n      <g transform=\"translate(28.487187 131.054471)scale(0.1 -0.1)\">\r\n       <use xlink:href=\"#DejaVuSans-54\"/>\r\n       <use x=\"63.623047\" xlink:href=\"#DejaVuSans-48\"/>\r\n       <use x=\"127.246094\" xlink:href=\"#DejaVuSans-48\"/>\r\n      </g>\r\n     </g>\r\n    </g>\r\n    <g id=\"ytick_5\">\r\n     <g id=\"line2d_12\">\r\n      <g>\r\n       <use style=\"stroke:#000000;stroke-width:0.8;\" x=\"54.574687\" xlink:href=\"#m33a25de6d4\" y=\"92.887637\"/>\r\n      </g>\r\n     </g>\r\n     <g id=\"text_13\">\r\n      <!-- 800 -->\r\n      <g transform=\"translate(28.487187 96.686856)scale(0.1 -0.1)\">\r\n       <defs>\r\n        <path d=\"M 31.78125 34.625 \r\nQ 24.75 34.625 20.71875 30.859375 \r\nQ 16.703125 27.09375 16.703125 20.515625 \r\nQ 16.703125 13.921875 20.71875 10.15625 \r\nQ 24.75 6.390625 31.78125 6.390625 \r\nQ 38.8125 6.390625 42.859375 10.171875 \r\nQ 46.921875 13.96875 46.921875 20.515625 \r\nQ 46.921875 27.09375 42.890625 30.859375 \r\nQ 38.875 34.625 31.78125 34.625 \r\nz\r\nM 21.921875 38.8125 \r\nQ 15.578125 40.375 12.03125 44.71875 \r\nQ 8.5 49.078125 8.5 55.328125 \r\nQ 8.5 64.0625 14.71875 69.140625 \r\nQ 20.953125 74.21875 31.78125 74.21875 \r\nQ 42.671875 74.21875 48.875 69.140625 \r\nQ 55.078125 64.0625 55.078125 55.328125 \r\nQ 55.078125 49.078125 51.53125 44.71875 \r\nQ 48 40.375 41.703125 38.8125 \r\nQ 48.828125 37.15625 52.796875 32.3125 \r\nQ 56.78125 27.484375 56.78125 20.515625 \r\nQ 56.78125 9.90625 50.3125 4.234375 \r\nQ 43.84375 -1.421875 31.78125 -1.421875 \r\nQ 19.734375 -1.421875 13.25 4.234375 \r\nQ 6.78125 9.90625 6.78125 20.515625 \r\nQ 6.78125 27.484375 10.78125 32.3125 \r\nQ 14.796875 37.15625 21.921875 38.8125 \r\nz\r\nM 18.3125 54.390625 \r\nQ 18.3125 48.734375 21.84375 45.5625 \r\nQ 25.390625 42.390625 31.78125 42.390625 \r\nQ 38.140625 42.390625 41.71875 45.5625 \r\nQ 45.3125 48.734375 45.3125 54.390625 \r\nQ 45.3125 60.0625 41.71875 63.234375 \r\nQ 38.140625 66.40625 31.78125 66.40625 \r\nQ 25.390625 66.40625 21.84375 63.234375 \r\nQ 18.3125 60.0625 18.3125 54.390625 \r\nz\r\n\" id=\"DejaVuSans-56\"/>\r\n       </defs>\r\n       <use xlink:href=\"#DejaVuSans-56\"/>\r\n       <use x=\"63.623047\" xlink:href=\"#DejaVuSans-48\"/>\r\n       <use x=\"127.246094\" xlink:href=\"#DejaVuSans-48\"/>\r\n      </g>\r\n     </g>\r\n    </g>\r\n    <g id=\"ytick_6\">\r\n     <g id=\"line2d_13\">\r\n      <g>\r\n       <use style=\"stroke:#000000;stroke-width:0.8;\" x=\"54.574687\" xlink:href=\"#m33a25de6d4\" y=\"58.520022\"/>\r\n      </g>\r\n     </g>\r\n     <g id=\"text_14\">\r\n      <!-- 1000 -->\r\n      <g transform=\"translate(22.124687 62.31924)scale(0.1 -0.1)\">\r\n       <use xlink:href=\"#DejaVuSans-49\"/>\r\n       <use x=\"63.623047\" xlink:href=\"#DejaVuSans-48\"/>\r\n       <use x=\"127.246094\" xlink:href=\"#DejaVuSans-48\"/>\r\n       <use x=\"190.869141\" xlink:href=\"#DejaVuSans-48\"/>\r\n      </g>\r\n     </g>\r\n    </g>\r\n    <g id=\"ytick_7\">\r\n     <g id=\"line2d_14\">\r\n      <g>\r\n       <use style=\"stroke:#000000;stroke-width:0.8;\" x=\"54.574687\" xlink:href=\"#m33a25de6d4\" y=\"24.152407\"/>\r\n      </g>\r\n     </g>\r\n     <g id=\"text_15\">\r\n      <!-- 1200 -->\r\n      <g transform=\"translate(22.124687 27.951625)scale(0.1 -0.1)\">\r\n       <use xlink:href=\"#DejaVuSans-49\"/>\r\n       <use x=\"63.623047\" xlink:href=\"#DejaVuSans-50\"/>\r\n       <use x=\"127.246094\" xlink:href=\"#DejaVuSans-48\"/>\r\n       <use x=\"190.869141\" xlink:href=\"#DejaVuSans-48\"/>\r\n      </g>\r\n     </g>\r\n    </g>\r\n    <g id=\"text_16\">\r\n     <!-- runtime (s) -->\r\n     <g transform=\"translate(16.045 159.3025)rotate(-90)scale(0.1 -0.1)\">\r\n      <defs>\r\n       <path d=\"M 41.109375 46.296875 \r\nQ 39.59375 47.171875 37.8125 47.578125 \r\nQ 36.03125 48 33.890625 48 \r\nQ 26.265625 48 22.1875 43.046875 \r\nQ 18.109375 38.09375 18.109375 28.8125 \r\nL 18.109375 0 \r\nL 9.078125 0 \r\nL 9.078125 54.6875 \r\nL 18.109375 54.6875 \r\nL 18.109375 46.1875 \r\nQ 20.953125 51.171875 25.484375 53.578125 \r\nQ 30.03125 56 36.53125 56 \r\nQ 37.453125 56 38.578125 55.875 \r\nQ 39.703125 55.765625 41.0625 55.515625 \r\nz\r\n\" id=\"DejaVuSans-114\"/>\r\n       <path d=\"M 8.5 21.578125 \r\nL 8.5 54.6875 \r\nL 17.484375 54.6875 \r\nL 17.484375 21.921875 \r\nQ 17.484375 14.15625 20.5 10.265625 \r\nQ 23.53125 6.390625 29.59375 6.390625 \r\nQ 36.859375 6.390625 41.078125 11.03125 \r\nQ 45.3125 15.671875 45.3125 23.6875 \r\nL 45.3125 54.6875 \r\nL 54.296875 54.6875 \r\nL 54.296875 0 \r\nL 45.3125 0 \r\nL 45.3125 8.40625 \r\nQ 42.046875 3.421875 37.71875 1 \r\nQ 33.40625 -1.421875 27.6875 -1.421875 \r\nQ 18.265625 -1.421875 13.375 4.4375 \r\nQ 8.5 10.296875 8.5 21.578125 \r\nz\r\nM 31.109375 56 \r\nz\r\n\" id=\"DejaVuSans-117\"/>\r\n       <path d=\"M 54.890625 33.015625 \r\nL 54.890625 0 \r\nL 45.90625 0 \r\nL 45.90625 32.71875 \r\nQ 45.90625 40.484375 42.875 44.328125 \r\nQ 39.84375 48.1875 33.796875 48.1875 \r\nQ 26.515625 48.1875 22.3125 43.546875 \r\nQ 18.109375 38.921875 18.109375 30.90625 \r\nL 18.109375 0 \r\nL 9.078125 0 \r\nL 9.078125 54.6875 \r\nL 18.109375 54.6875 \r\nL 18.109375 46.1875 \r\nQ 21.34375 51.125 25.703125 53.5625 \r\nQ 30.078125 56 35.796875 56 \r\nQ 45.21875 56 50.046875 50.171875 \r\nQ 54.890625 44.34375 54.890625 33.015625 \r\nz\r\n\" id=\"DejaVuSans-110\"/>\r\n       <path d=\"M 18.3125 70.21875 \r\nL 18.3125 54.6875 \r\nL 36.8125 54.6875 \r\nL 36.8125 47.703125 \r\nL 18.3125 47.703125 \r\nL 18.3125 18.015625 \r\nQ 18.3125 11.328125 20.140625 9.421875 \r\nQ 21.96875 7.515625 27.59375 7.515625 \r\nL 36.8125 7.515625 \r\nL 36.8125 0 \r\nL 27.59375 0 \r\nQ 17.1875 0 13.234375 3.875 \r\nQ 9.28125 7.765625 9.28125 18.015625 \r\nL 9.28125 47.703125 \r\nL 2.6875 47.703125 \r\nL 2.6875 54.6875 \r\nL 9.28125 54.6875 \r\nL 9.28125 70.21875 \r\nz\r\n\" id=\"DejaVuSans-116\"/>\r\n       <path d=\"M 9.421875 54.6875 \r\nL 18.40625 54.6875 \r\nL 18.40625 0 \r\nL 9.421875 0 \r\nz\r\nM 9.421875 75.984375 \r\nL 18.40625 75.984375 \r\nL 18.40625 64.59375 \r\nL 9.421875 64.59375 \r\nz\r\n\" id=\"DejaVuSans-105\"/>\r\n       <path d=\"M 56.203125 29.59375 \r\nL 56.203125 25.203125 \r\nL 14.890625 25.203125 \r\nQ 15.484375 15.921875 20.484375 11.0625 \r\nQ 25.484375 6.203125 34.421875 6.203125 \r\nQ 39.59375 6.203125 44.453125 7.46875 \r\nQ 49.3125 8.734375 54.109375 11.28125 \r\nL 54.109375 2.78125 \r\nQ 49.265625 0.734375 44.1875 -0.34375 \r\nQ 39.109375 -1.421875 33.890625 -1.421875 \r\nQ 20.796875 -1.421875 13.15625 6.1875 \r\nQ 5.515625 13.8125 5.515625 26.8125 \r\nQ 5.515625 40.234375 12.765625 48.109375 \r\nQ 20.015625 56 32.328125 56 \r\nQ 43.359375 56 49.78125 48.890625 \r\nQ 56.203125 41.796875 56.203125 29.59375 \r\nz\r\nM 47.21875 32.234375 \r\nQ 47.125 39.59375 43.09375 43.984375 \r\nQ 39.0625 48.390625 32.421875 48.390625 \r\nQ 24.90625 48.390625 20.390625 44.140625 \r\nQ 15.875 39.890625 15.1875 32.171875 \r\nz\r\n\" id=\"DejaVuSans-101\"/>\r\n       <path id=\"DejaVuSans-32\"/>\r\n       <path d=\"M 31 75.875 \r\nQ 24.46875 64.65625 21.28125 53.65625 \r\nQ 18.109375 42.671875 18.109375 31.390625 \r\nQ 18.109375 20.125 21.3125 9.0625 \r\nQ 24.515625 -2 31 -13.1875 \r\nL 23.1875 -13.1875 \r\nQ 15.875 -1.703125 12.234375 9.375 \r\nQ 8.59375 20.453125 8.59375 31.390625 \r\nQ 8.59375 42.28125 12.203125 53.3125 \r\nQ 15.828125 64.359375 23.1875 75.875 \r\nz\r\n\" id=\"DejaVuSans-40\"/>\r\n       <path d=\"M 44.28125 53.078125 \r\nL 44.28125 44.578125 \r\nQ 40.484375 46.53125 36.375 47.5 \r\nQ 32.28125 48.484375 27.875 48.484375 \r\nQ 21.1875 48.484375 17.84375 46.4375 \r\nQ 14.5 44.390625 14.5 40.28125 \r\nQ 14.5 37.15625 16.890625 35.375 \r\nQ 19.28125 33.59375 26.515625 31.984375 \r\nL 29.59375 31.296875 \r\nQ 39.15625 29.25 43.1875 25.515625 \r\nQ 47.21875 21.78125 47.21875 15.09375 \r\nQ 47.21875 7.46875 41.1875 3.015625 \r\nQ 35.15625 -1.421875 24.609375 -1.421875 \r\nQ 20.21875 -1.421875 15.453125 -0.5625 \r\nQ 10.6875 0.296875 5.421875 2 \r\nL 5.421875 11.28125 \r\nQ 10.40625 8.6875 15.234375 7.390625 \r\nQ 20.0625 6.109375 24.8125 6.109375 \r\nQ 31.15625 6.109375 34.5625 8.28125 \r\nQ 37.984375 10.453125 37.984375 14.40625 \r\nQ 37.984375 18.0625 35.515625 20.015625 \r\nQ 33.0625 21.96875 24.703125 23.78125 \r\nL 21.578125 24.515625 \r\nQ 13.234375 26.265625 9.515625 29.90625 \r\nQ 5.8125 33.546875 5.8125 39.890625 \r\nQ 5.8125 47.609375 11.28125 51.796875 \r\nQ 16.75 56 26.8125 56 \r\nQ 31.78125 56 36.171875 55.265625 \r\nQ 40.578125 54.546875 44.28125 53.078125 \r\nz\r\n\" id=\"DejaVuSans-115\"/>\r\n       <path d=\"M 8.015625 75.875 \r\nL 15.828125 75.875 \r\nQ 23.140625 64.359375 26.78125 53.3125 \r\nQ 30.421875 42.28125 30.421875 31.390625 \r\nQ 30.421875 20.453125 26.78125 9.375 \r\nQ 23.140625 -1.703125 15.828125 -13.1875 \r\nL 8.015625 -13.1875 \r\nQ 14.5 -2 17.703125 9.0625 \r\nQ 20.90625 20.125 20.90625 31.390625 \r\nQ 20.90625 42.671875 17.703125 53.65625 \r\nQ 14.5 64.65625 8.015625 75.875 \r\nz\r\n\" id=\"DejaVuSans-41\"/>\r\n      </defs>\r\n      <use xlink:href=\"#DejaVuSans-114\"/>\r\n      <use x=\"41.113281\" xlink:href=\"#DejaVuSans-117\"/>\r\n      <use x=\"104.492188\" xlink:href=\"#DejaVuSans-110\"/>\r\n      <use x=\"167.871094\" xlink:href=\"#DejaVuSans-116\"/>\r\n      <use x=\"207.080078\" xlink:href=\"#DejaVuSans-105\"/>\r\n      <use x=\"234.863281\" xlink:href=\"#DejaVuSans-109\"/>\r\n      <use x=\"332.275391\" xlink:href=\"#DejaVuSans-101\"/>\r\n      <use x=\"393.798828\" xlink:href=\"#DejaVuSans-32\"/>\r\n      <use x=\"425.585938\" xlink:href=\"#DejaVuSans-40\"/>\r\n      <use x=\"464.599609\" xlink:href=\"#DejaVuSans-115\"/>\r\n      <use x=\"516.699219\" xlink:href=\"#DejaVuSans-41\"/>\r\n     </g>\r\n    </g>\r\n   </g>\r\n   <g id=\"line2d_15\">\r\n    <path clip-path=\"url(#p57e389c08b)\" d=\"M 69.792869 230.098106 \r\nL 79.611051 229.448386 \r\nL 99.247415 226.845383 \r\nL 138.520142 217.011949 \r\nL 217.065597 175.798649 \r\nL 374.156506 32.681761 \r\n\" style=\"fill:none;stroke:#1f77b4;stroke-linecap:square;stroke-width:1.5;\"/>\r\n    <defs>\r\n     <path d=\"M 0 3 \r\nC 0.795609 3 1.55874 2.683901 2.12132 2.12132 \r\nC 2.683901 1.55874 3 0.795609 3 0 \r\nC 3 -0.795609 2.683901 -1.55874 2.12132 -2.12132 \r\nC 1.55874 -2.683901 0.795609 -3 0 -3 \r\nC -0.795609 -3 -1.55874 -2.683901 -2.12132 -2.12132 \r\nC -2.683901 -1.55874 -3 -0.795609 -3 0 \r\nC -3 0.795609 -2.683901 1.55874 -2.12132 2.12132 \r\nC -1.55874 2.683901 -0.795609 3 0 3 \r\nz\r\n\" id=\"m17d6ce8900\" style=\"stroke:#1f77b4;\"/>\r\n    </defs>\r\n    <g clip-path=\"url(#p57e389c08b)\">\r\n     <use style=\"fill:#1f77b4;stroke:#1f77b4;\" x=\"69.792869\" xlink:href=\"#m17d6ce8900\" y=\"230.098106\"/>\r\n     <use style=\"fill:#1f77b4;stroke:#1f77b4;\" x=\"79.611051\" xlink:href=\"#m17d6ce8900\" y=\"229.448386\"/>\r\n     <use style=\"fill:#1f77b4;stroke:#1f77b4;\" x=\"99.247415\" xlink:href=\"#m17d6ce8900\" y=\"226.845383\"/>\r\n     <use style=\"fill:#1f77b4;stroke:#1f77b4;\" x=\"138.520142\" xlink:href=\"#m17d6ce8900\" y=\"217.011949\"/>\r\n     <use style=\"fill:#1f77b4;stroke:#1f77b4;\" x=\"217.065597\" xlink:href=\"#m17d6ce8900\" y=\"175.798649\"/>\r\n     <use style=\"fill:#1f77b4;stroke:#1f77b4;\" x=\"374.156506\" xlink:href=\"#m17d6ce8900\" y=\"32.681761\"/>\r\n    </g>\r\n   </g>\r\n   <g id=\"line2d_16\">\r\n    <path clip-path=\"url(#p57e389c08b)\" d=\"M 69.792869 230.352083 \r\nL 79.611051 230.354317 \r\nL 99.247415 230.354489 \r\nL 138.520142 230.354489 \r\nL 217.065597 230.352427 \r\nL 374.156506 230.353973 \r\n\" style=\"fill:none;stroke:#ff7f0e;stroke-linecap:square;stroke-width:1.5;\"/>\r\n    <defs>\r\n     <path d=\"M -3 3 \r\nL 3 -3 \r\nM -3 -3 \r\nL 3 3 \r\n\" id=\"m9674943020\" style=\"stroke:#ff7f0e;\"/>\r\n    </defs>\r\n    <g clip-path=\"url(#p57e389c08b)\">\r\n     <use style=\"fill:#ff7f0e;stroke:#ff7f0e;\" x=\"69.792869\" xlink:href=\"#m9674943020\" y=\"230.352083\"/>\r\n     <use style=\"fill:#ff7f0e;stroke:#ff7f0e;\" x=\"79.611051\" xlink:href=\"#m9674943020\" y=\"230.354317\"/>\r\n     <use style=\"fill:#ff7f0e;stroke:#ff7f0e;\" x=\"99.247415\" xlink:href=\"#m9674943020\" y=\"230.354489\"/>\r\n     <use style=\"fill:#ff7f0e;stroke:#ff7f0e;\" x=\"138.520142\" xlink:href=\"#m9674943020\" y=\"230.354489\"/>\r\n     <use style=\"fill:#ff7f0e;stroke:#ff7f0e;\" x=\"217.065597\" xlink:href=\"#m9674943020\" y=\"230.352427\"/>\r\n     <use style=\"fill:#ff7f0e;stroke:#ff7f0e;\" x=\"374.156506\" xlink:href=\"#m9674943020\" y=\"230.353973\"/>\r\n    </g>\r\n   </g>\r\n   <g id=\"patch_3\">\r\n    <path d=\"M 54.574687 240.238125 \r\nL 54.574687 22.798125 \r\n\" style=\"fill:none;stroke:#000000;stroke-linecap:square;stroke-linejoin:miter;stroke-width:0.8;\"/>\r\n   </g>\r\n   <g id=\"patch_4\">\r\n    <path d=\"M 389.374687 240.238125 \r\nL 389.374687 22.798125 \r\n\" style=\"fill:none;stroke:#000000;stroke-linecap:square;stroke-linejoin:miter;stroke-width:0.8;\"/>\r\n   </g>\r\n   <g id=\"patch_5\">\r\n    <path d=\"M 54.574687 240.238125 \r\nL 389.374688 240.238125 \r\n\" style=\"fill:none;stroke:#000000;stroke-linecap:square;stroke-linejoin:miter;stroke-width:0.8;\"/>\r\n   </g>\r\n   <g id=\"patch_6\">\r\n    <path d=\"M 54.574687 22.798125 \r\nL 389.374688 22.798125 \r\n\" style=\"fill:none;stroke:#000000;stroke-linecap:square;stroke-linejoin:miter;stroke-width:0.8;\"/>\r\n   </g>\r\n   <g id=\"text_17\">\r\n    <!-- Plot of Runtimes for `python_convolution` and `separable_convolution` -->\r\n    <g transform=\"translate(7.2 16.798125)scale(0.12 -0.12)\">\r\n     <defs>\r\n      <path d=\"M 19.671875 64.796875 \r\nL 19.671875 37.40625 \r\nL 32.078125 37.40625 \r\nQ 38.96875 37.40625 42.71875 40.96875 \r\nQ 46.484375 44.53125 46.484375 51.125 \r\nQ 46.484375 57.671875 42.71875 61.234375 \r\nQ 38.96875 64.796875 32.078125 64.796875 \r\nz\r\nM 9.8125 72.90625 \r\nL 32.078125 72.90625 \r\nQ 44.34375 72.90625 50.609375 67.359375 \r\nQ 56.890625 61.8125 56.890625 51.125 \r\nQ 56.890625 40.328125 50.609375 34.8125 \r\nQ 44.34375 29.296875 32.078125 29.296875 \r\nL 19.671875 29.296875 \r\nL 19.671875 0 \r\nL 9.8125 0 \r\nz\r\n\" id=\"DejaVuSans-80\"/>\r\n      <path d=\"M 9.421875 75.984375 \r\nL 18.40625 75.984375 \r\nL 18.40625 0 \r\nL 9.421875 0 \r\nz\r\n\" id=\"DejaVuSans-108\"/>\r\n      <path d=\"M 30.609375 48.390625 \r\nQ 23.390625 48.390625 19.1875 42.75 \r\nQ 14.984375 37.109375 14.984375 27.296875 \r\nQ 14.984375 17.484375 19.15625 11.84375 \r\nQ 23.34375 6.203125 30.609375 6.203125 \r\nQ 37.796875 6.203125 41.984375 11.859375 \r\nQ 46.1875 17.53125 46.1875 27.296875 \r\nQ 46.1875 37.015625 41.984375 42.703125 \r\nQ 37.796875 48.390625 30.609375 48.390625 \r\nz\r\nM 30.609375 56 \r\nQ 42.328125 56 49.015625 48.375 \r\nQ 55.71875 40.765625 55.71875 27.296875 \r\nQ 55.71875 13.875 49.015625 6.21875 \r\nQ 42.328125 -1.421875 30.609375 -1.421875 \r\nQ 18.84375 -1.421875 12.171875 6.21875 \r\nQ 5.515625 13.875 5.515625 27.296875 \r\nQ 5.515625 40.765625 12.171875 48.375 \r\nQ 18.84375 56 30.609375 56 \r\nz\r\n\" id=\"DejaVuSans-111\"/>\r\n      <path d=\"M 37.109375 75.984375 \r\nL 37.109375 68.5 \r\nL 28.515625 68.5 \r\nQ 23.6875 68.5 21.796875 66.546875 \r\nQ 19.921875 64.59375 19.921875 59.515625 \r\nL 19.921875 54.6875 \r\nL 34.71875 54.6875 \r\nL 34.71875 47.703125 \r\nL 19.921875 47.703125 \r\nL 19.921875 0 \r\nL 10.890625 0 \r\nL 10.890625 47.703125 \r\nL 2.296875 47.703125 \r\nL 2.296875 54.6875 \r\nL 10.890625 54.6875 \r\nL 10.890625 58.5 \r\nQ 10.890625 67.625 15.140625 71.796875 \r\nQ 19.390625 75.984375 28.609375 75.984375 \r\nz\r\n\" id=\"DejaVuSans-102\"/>\r\n      <path d=\"M 44.390625 34.1875 \r\nQ 47.5625 33.109375 50.5625 29.59375 \r\nQ 53.5625 26.078125 56.59375 19.921875 \r\nL 66.609375 0 \r\nL 56 0 \r\nL 46.6875 18.703125 \r\nQ 43.0625 26.03125 39.671875 28.421875 \r\nQ 36.28125 30.8125 30.421875 30.8125 \r\nL 19.671875 30.8125 \r\nL 19.671875 0 \r\nL 9.8125 0 \r\nL 9.8125 72.90625 \r\nL 32.078125 72.90625 \r\nQ 44.578125 72.90625 50.734375 67.671875 \r\nQ 56.890625 62.453125 56.890625 51.90625 \r\nQ 56.890625 45.015625 53.6875 40.46875 \r\nQ 50.484375 35.9375 44.390625 34.1875 \r\nz\r\nM 19.671875 64.796875 \r\nL 19.671875 38.921875 \r\nL 32.078125 38.921875 \r\nQ 39.203125 38.921875 42.84375 42.21875 \r\nQ 46.484375 45.515625 46.484375 51.90625 \r\nQ 46.484375 58.296875 42.84375 61.546875 \r\nQ 39.203125 64.796875 32.078125 64.796875 \r\nz\r\n\" id=\"DejaVuSans-82\"/>\r\n      <path d=\"M 17.921875 79.984375 \r\nL 31.6875 61.71875 \r\nL 24.21875 61.71875 \r\nL 8.296875 79.984375 \r\nz\r\n\" id=\"DejaVuSans-96\"/>\r\n      <path d=\"M 18.109375 8.203125 \r\nL 18.109375 -20.796875 \r\nL 9.078125 -20.796875 \r\nL 9.078125 54.6875 \r\nL 18.109375 54.6875 \r\nL 18.109375 46.390625 \r\nQ 20.953125 51.265625 25.265625 53.625 \r\nQ 29.59375 56 35.59375 56 \r\nQ 45.5625 56 51.78125 48.09375 \r\nQ 58.015625 40.1875 58.015625 27.296875 \r\nQ 58.015625 14.40625 51.78125 6.484375 \r\nQ 45.5625 -1.421875 35.59375 -1.421875 \r\nQ 29.59375 -1.421875 25.265625 0.953125 \r\nQ 20.953125 3.328125 18.109375 8.203125 \r\nz\r\nM 48.6875 27.296875 \r\nQ 48.6875 37.203125 44.609375 42.84375 \r\nQ 40.53125 48.484375 33.40625 48.484375 \r\nQ 26.265625 48.484375 22.1875 42.84375 \r\nQ 18.109375 37.203125 18.109375 27.296875 \r\nQ 18.109375 17.390625 22.1875 11.75 \r\nQ 26.265625 6.109375 33.40625 6.109375 \r\nQ 40.53125 6.109375 44.609375 11.75 \r\nQ 48.6875 17.390625 48.6875 27.296875 \r\nz\r\n\" id=\"DejaVuSans-112\"/>\r\n      <path d=\"M 32.171875 -5.078125 \r\nQ 28.375 -14.84375 24.75 -17.8125 \r\nQ 21.140625 -20.796875 15.09375 -20.796875 \r\nL 7.90625 -20.796875 \r\nL 7.90625 -13.28125 \r\nL 13.1875 -13.28125 \r\nQ 16.890625 -13.28125 18.9375 -11.515625 \r\nQ 21 -9.765625 23.484375 -3.21875 \r\nL 25.09375 0.875 \r\nL 2.984375 54.6875 \r\nL 12.5 54.6875 \r\nL 29.59375 11.921875 \r\nL 46.6875 54.6875 \r\nL 56.203125 54.6875 \r\nz\r\n\" id=\"DejaVuSans-121\"/>\r\n      <path d=\"M 54.890625 33.015625 \r\nL 54.890625 0 \r\nL 45.90625 0 \r\nL 45.90625 32.71875 \r\nQ 45.90625 40.484375 42.875 44.328125 \r\nQ 39.84375 48.1875 33.796875 48.1875 \r\nQ 26.515625 48.1875 22.3125 43.546875 \r\nQ 18.109375 38.921875 18.109375 30.90625 \r\nL 18.109375 0 \r\nL 9.078125 0 \r\nL 9.078125 75.984375 \r\nL 18.109375 75.984375 \r\nL 18.109375 46.1875 \r\nQ 21.34375 51.125 25.703125 53.5625 \r\nQ 30.078125 56 35.796875 56 \r\nQ 45.21875 56 50.046875 50.171875 \r\nQ 54.890625 44.34375 54.890625 33.015625 \r\nz\r\n\" id=\"DejaVuSans-104\"/>\r\n      <path d=\"M 50.984375 -16.609375 \r\nL 50.984375 -23.578125 \r\nL -0.984375 -23.578125 \r\nL -0.984375 -16.609375 \r\nz\r\n\" id=\"DejaVuSans-95\"/>\r\n      <path d=\"M 48.78125 52.59375 \r\nL 48.78125 44.1875 \r\nQ 44.96875 46.296875 41.140625 47.34375 \r\nQ 37.3125 48.390625 33.40625 48.390625 \r\nQ 24.65625 48.390625 19.8125 42.84375 \r\nQ 14.984375 37.3125 14.984375 27.296875 \r\nQ 14.984375 17.28125 19.8125 11.734375 \r\nQ 24.65625 6.203125 33.40625 6.203125 \r\nQ 37.3125 6.203125 41.140625 7.25 \r\nQ 44.96875 8.296875 48.78125 10.40625 \r\nL 48.78125 2.09375 \r\nQ 45.015625 0.34375 40.984375 -0.53125 \r\nQ 36.96875 -1.421875 32.421875 -1.421875 \r\nQ 20.0625 -1.421875 12.78125 6.34375 \r\nQ 5.515625 14.109375 5.515625 27.296875 \r\nQ 5.515625 40.671875 12.859375 48.328125 \r\nQ 20.21875 56 33.015625 56 \r\nQ 37.15625 56 41.109375 55.140625 \r\nQ 45.0625 54.296875 48.78125 52.59375 \r\nz\r\n\" id=\"DejaVuSans-99\"/>\r\n      <path d=\"M 2.984375 54.6875 \r\nL 12.5 54.6875 \r\nL 29.59375 8.796875 \r\nL 46.6875 54.6875 \r\nL 56.203125 54.6875 \r\nL 35.6875 0 \r\nL 23.484375 0 \r\nz\r\n\" id=\"DejaVuSans-118\"/>\r\n      <path d=\"M 34.28125 27.484375 \r\nQ 23.390625 27.484375 19.1875 25 \r\nQ 14.984375 22.515625 14.984375 16.5 \r\nQ 14.984375 11.71875 18.140625 8.90625 \r\nQ 21.296875 6.109375 26.703125 6.109375 \r\nQ 34.1875 6.109375 38.703125 11.40625 \r\nQ 43.21875 16.703125 43.21875 25.484375 \r\nL 43.21875 27.484375 \r\nz\r\nM 52.203125 31.203125 \r\nL 52.203125 0 \r\nL 43.21875 0 \r\nL 43.21875 8.296875 \r\nQ 40.140625 3.328125 35.546875 0.953125 \r\nQ 30.953125 -1.421875 24.3125 -1.421875 \r\nQ 15.921875 -1.421875 10.953125 3.296875 \r\nQ 6 8.015625 6 15.921875 \r\nQ 6 25.140625 12.171875 29.828125 \r\nQ 18.359375 34.515625 30.609375 34.515625 \r\nL 43.21875 34.515625 \r\nL 43.21875 35.40625 \r\nQ 43.21875 41.609375 39.140625 45 \r\nQ 35.0625 48.390625 27.6875 48.390625 \r\nQ 23 48.390625 18.546875 47.265625 \r\nQ 14.109375 46.140625 10.015625 43.890625 \r\nL 10.015625 52.203125 \r\nQ 14.9375 54.109375 19.578125 55.046875 \r\nQ 24.21875 56 28.609375 56 \r\nQ 40.484375 56 46.34375 49.84375 \r\nQ 52.203125 43.703125 52.203125 31.203125 \r\nz\r\n\" id=\"DejaVuSans-97\"/>\r\n      <path d=\"M 45.40625 46.390625 \r\nL 45.40625 75.984375 \r\nL 54.390625 75.984375 \r\nL 54.390625 0 \r\nL 45.40625 0 \r\nL 45.40625 8.203125 \r\nQ 42.578125 3.328125 38.25 0.953125 \r\nQ 33.9375 -1.421875 27.875 -1.421875 \r\nQ 17.96875 -1.421875 11.734375 6.484375 \r\nQ 5.515625 14.40625 5.515625 27.296875 \r\nQ 5.515625 40.1875 11.734375 48.09375 \r\nQ 17.96875 56 27.875 56 \r\nQ 33.9375 56 38.25 53.625 \r\nQ 42.578125 51.265625 45.40625 46.390625 \r\nz\r\nM 14.796875 27.296875 \r\nQ 14.796875 17.390625 18.875 11.75 \r\nQ 22.953125 6.109375 30.078125 6.109375 \r\nQ 37.203125 6.109375 41.296875 11.75 \r\nQ 45.40625 17.390625 45.40625 27.296875 \r\nQ 45.40625 37.203125 41.296875 42.84375 \r\nQ 37.203125 48.484375 30.078125 48.484375 \r\nQ 22.953125 48.484375 18.875 42.84375 \r\nQ 14.796875 37.203125 14.796875 27.296875 \r\nz\r\n\" id=\"DejaVuSans-100\"/>\r\n      <path d=\"M 48.6875 27.296875 \r\nQ 48.6875 37.203125 44.609375 42.84375 \r\nQ 40.53125 48.484375 33.40625 48.484375 \r\nQ 26.265625 48.484375 22.1875 42.84375 \r\nQ 18.109375 37.203125 18.109375 27.296875 \r\nQ 18.109375 17.390625 22.1875 11.75 \r\nQ 26.265625 6.109375 33.40625 6.109375 \r\nQ 40.53125 6.109375 44.609375 11.75 \r\nQ 48.6875 17.390625 48.6875 27.296875 \r\nz\r\nM 18.109375 46.390625 \r\nQ 20.953125 51.265625 25.265625 53.625 \r\nQ 29.59375 56 35.59375 56 \r\nQ 45.5625 56 51.78125 48.09375 \r\nQ 58.015625 40.1875 58.015625 27.296875 \r\nQ 58.015625 14.40625 51.78125 6.484375 \r\nQ 45.5625 -1.421875 35.59375 -1.421875 \r\nQ 29.59375 -1.421875 25.265625 0.953125 \r\nQ 20.953125 3.328125 18.109375 8.203125 \r\nL 18.109375 0 \r\nL 9.078125 0 \r\nL 9.078125 75.984375 \r\nL 18.109375 75.984375 \r\nz\r\n\" id=\"DejaVuSans-98\"/>\r\n     </defs>\r\n     <use xlink:href=\"#DejaVuSans-80\"/>\r\n     <use x=\"60.302734\" xlink:href=\"#DejaVuSans-108\"/>\r\n     <use x=\"88.085938\" xlink:href=\"#DejaVuSans-111\"/>\r\n     <use x=\"149.267578\" xlink:href=\"#DejaVuSans-116\"/>\r\n     <use x=\"188.476562\" xlink:href=\"#DejaVuSans-32\"/>\r\n     <use x=\"220.263672\" xlink:href=\"#DejaVuSans-111\"/>\r\n     <use x=\"281.445312\" xlink:href=\"#DejaVuSans-102\"/>\r\n     <use x=\"316.650391\" xlink:href=\"#DejaVuSans-32\"/>\r\n     <use x=\"348.4375\" xlink:href=\"#DejaVuSans-82\"/>\r\n     <use x=\"413.419922\" xlink:href=\"#DejaVuSans-117\"/>\r\n     <use x=\"476.798828\" xlink:href=\"#DejaVuSans-110\"/>\r\n     <use x=\"540.177734\" xlink:href=\"#DejaVuSans-116\"/>\r\n     <use x=\"579.386719\" xlink:href=\"#DejaVuSans-105\"/>\r\n     <use x=\"607.169922\" xlink:href=\"#DejaVuSans-109\"/>\r\n     <use x=\"704.582031\" xlink:href=\"#DejaVuSans-101\"/>\r\n     <use x=\"766.105469\" xlink:href=\"#DejaVuSans-115\"/>\r\n     <use x=\"818.205078\" xlink:href=\"#DejaVuSans-32\"/>\r\n     <use x=\"849.992188\" xlink:href=\"#DejaVuSans-102\"/>\r\n     <use x=\"885.197266\" xlink:href=\"#DejaVuSans-111\"/>\r\n     <use x=\"946.378906\" xlink:href=\"#DejaVuSans-114\"/>\r\n     <use x=\"987.492188\" xlink:href=\"#DejaVuSans-32\"/>\r\n     <use x=\"1019.279297\" xlink:href=\"#DejaVuSans-96\"/>\r\n     <use x=\"1069.279297\" xlink:href=\"#DejaVuSans-112\"/>\r\n     <use x=\"1132.755859\" xlink:href=\"#DejaVuSans-121\"/>\r\n     <use x=\"1191.935547\" xlink:href=\"#DejaVuSans-116\"/>\r\n     <use x=\"1231.144531\" xlink:href=\"#DejaVuSans-104\"/>\r\n     <use x=\"1294.523438\" xlink:href=\"#DejaVuSans-111\"/>\r\n     <use x=\"1355.705078\" xlink:href=\"#DejaVuSans-110\"/>\r\n     <use x=\"1419.083984\" xlink:href=\"#DejaVuSans-95\"/>\r\n     <use x=\"1469.083984\" xlink:href=\"#DejaVuSans-99\"/>\r\n     <use x=\"1524.064453\" xlink:href=\"#DejaVuSans-111\"/>\r\n     <use x=\"1585.246094\" xlink:href=\"#DejaVuSans-110\"/>\r\n     <use x=\"1648.625\" xlink:href=\"#DejaVuSans-118\"/>\r\n     <use x=\"1707.804688\" xlink:href=\"#DejaVuSans-111\"/>\r\n     <use x=\"1768.986328\" xlink:href=\"#DejaVuSans-108\"/>\r\n     <use x=\"1796.769531\" xlink:href=\"#DejaVuSans-117\"/>\r\n     <use x=\"1860.148438\" xlink:href=\"#DejaVuSans-116\"/>\r\n     <use x=\"1899.357422\" xlink:href=\"#DejaVuSans-105\"/>\r\n     <use x=\"1927.140625\" xlink:href=\"#DejaVuSans-111\"/>\r\n     <use x=\"1988.322266\" xlink:href=\"#DejaVuSans-110\"/>\r\n     <use x=\"2051.701172\" xlink:href=\"#DejaVuSans-96\"/>\r\n     <use x=\"2101.701172\" xlink:href=\"#DejaVuSans-32\"/>\r\n     <use x=\"2133.488281\" xlink:href=\"#DejaVuSans-97\"/>\r\n     <use x=\"2194.767578\" xlink:href=\"#DejaVuSans-110\"/>\r\n     <use x=\"2258.146484\" xlink:href=\"#DejaVuSans-100\"/>\r\n     <use x=\"2321.623047\" xlink:href=\"#DejaVuSans-32\"/>\r\n     <use x=\"2353.410156\" xlink:href=\"#DejaVuSans-96\"/>\r\n     <use x=\"2403.410156\" xlink:href=\"#DejaVuSans-115\"/>\r\n     <use x=\"2455.509766\" xlink:href=\"#DejaVuSans-101\"/>\r\n     <use x=\"2517.033203\" xlink:href=\"#DejaVuSans-112\"/>\r\n     <use x=\"2580.509766\" xlink:href=\"#DejaVuSans-97\"/>\r\n     <use x=\"2641.789062\" xlink:href=\"#DejaVuSans-114\"/>\r\n     <use x=\"2682.902344\" xlink:href=\"#DejaVuSans-97\"/>\r\n     <use x=\"2744.181641\" xlink:href=\"#DejaVuSans-98\"/>\r\n     <use x=\"2807.658203\" xlink:href=\"#DejaVuSans-108\"/>\r\n     <use x=\"2835.441406\" xlink:href=\"#DejaVuSans-101\"/>\r\n     <use x=\"2896.964844\" xlink:href=\"#DejaVuSans-95\"/>\r\n     <use x=\"2946.964844\" xlink:href=\"#DejaVuSans-99\"/>\r\n     <use x=\"3001.945312\" xlink:href=\"#DejaVuSans-111\"/>\r\n     <use x=\"3063.126953\" xlink:href=\"#DejaVuSans-110\"/>\r\n     <use x=\"3126.505859\" xlink:href=\"#DejaVuSans-118\"/>\r\n     <use x=\"3185.685547\" xlink:href=\"#DejaVuSans-111\"/>\r\n     <use x=\"3246.867188\" xlink:href=\"#DejaVuSans-108\"/>\r\n     <use x=\"3274.650391\" xlink:href=\"#DejaVuSans-117\"/>\r\n     <use x=\"3338.029297\" xlink:href=\"#DejaVuSans-116\"/>\r\n     <use x=\"3377.238281\" xlink:href=\"#DejaVuSans-105\"/>\r\n     <use x=\"3405.021484\" xlink:href=\"#DejaVuSans-111\"/>\r\n     <use x=\"3466.203125\" xlink:href=\"#DejaVuSans-110\"/>\r\n     <use x=\"3529.582031\" xlink:href=\"#DejaVuSans-96\"/>\r\n    </g>\r\n   </g>\r\n   <g id=\"legend_1\">\r\n    <g id=\"patch_7\">\r\n     <path d=\"M 61.574687 60.710625 \r\nL 237.174688 60.710625 \r\nQ 239.174688 60.710625 239.174688 58.710625 \r\nL 239.174688 29.798125 \r\nQ 239.174688 27.798125 237.174688 27.798125 \r\nL 61.574687 27.798125 \r\nQ 59.574687 27.798125 59.574687 29.798125 \r\nL 59.574687 58.710625 \r\nQ 59.574687 60.710625 61.574687 60.710625 \r\nz\r\n\" style=\"fill:#ffffff;opacity:0.8;stroke:#cccccc;stroke-linejoin:miter;\"/>\r\n    </g>\r\n    <g id=\"line2d_17\">\r\n     <path d=\"M 63.574687 35.896562 \r\nL 83.574687 35.896562 \r\n\" style=\"fill:none;stroke:#1f77b4;stroke-linecap:square;stroke-width:1.5;\"/>\r\n    </g>\r\n    <g id=\"line2d_18\">\r\n     <g>\r\n      <use style=\"fill:#1f77b4;stroke:#1f77b4;\" x=\"73.574687\" xlink:href=\"#m17d6ce8900\" y=\"35.896562\"/>\r\n     </g>\r\n    </g>\r\n    <g id=\"text_18\">\r\n     <!-- python_convolution times -->\r\n     <g transform=\"translate(91.574687 39.396562)scale(0.1 -0.1)\">\r\n      <use xlink:href=\"#DejaVuSans-112\"/>\r\n      <use x=\"63.476562\" xlink:href=\"#DejaVuSans-121\"/>\r\n      <use x=\"122.65625\" xlink:href=\"#DejaVuSans-116\"/>\r\n      <use x=\"161.865234\" xlink:href=\"#DejaVuSans-104\"/>\r\n      <use x=\"225.244141\" xlink:href=\"#DejaVuSans-111\"/>\r\n      <use x=\"286.425781\" xlink:href=\"#DejaVuSans-110\"/>\r\n      <use x=\"349.804688\" xlink:href=\"#DejaVuSans-95\"/>\r\n      <use x=\"399.804688\" xlink:href=\"#DejaVuSans-99\"/>\r\n      <use x=\"454.785156\" xlink:href=\"#DejaVuSans-111\"/>\r\n      <use x=\"515.966797\" xlink:href=\"#DejaVuSans-110\"/>\r\n      <use x=\"579.345703\" xlink:href=\"#DejaVuSans-118\"/>\r\n      <use x=\"638.525391\" xlink:href=\"#DejaVuSans-111\"/>\r\n      <use x=\"699.707031\" xlink:href=\"#DejaVuSans-108\"/>\r\n      <use x=\"727.490234\" xlink:href=\"#DejaVuSans-117\"/>\r\n      <use x=\"790.869141\" xlink:href=\"#DejaVuSans-116\"/>\r\n      <use x=\"830.078125\" xlink:href=\"#DejaVuSans-105\"/>\r\n      <use x=\"857.861328\" xlink:href=\"#DejaVuSans-111\"/>\r\n      <use x=\"919.042969\" xlink:href=\"#DejaVuSans-110\"/>\r\n      <use x=\"982.421875\" xlink:href=\"#DejaVuSans-32\"/>\r\n      <use x=\"1014.208984\" xlink:href=\"#DejaVuSans-116\"/>\r\n      <use x=\"1053.417969\" xlink:href=\"#DejaVuSans-105\"/>\r\n      <use x=\"1081.201172\" xlink:href=\"#DejaVuSans-109\"/>\r\n      <use x=\"1178.613281\" xlink:href=\"#DejaVuSans-101\"/>\r\n      <use x=\"1240.136719\" xlink:href=\"#DejaVuSans-115\"/>\r\n     </g>\r\n    </g>\r\n    <g id=\"line2d_19\">\r\n     <path d=\"M 63.574687 50.852812 \r\nL 83.574687 50.852812 \r\n\" style=\"fill:none;stroke:#ff7f0e;stroke-linecap:square;stroke-width:1.5;\"/>\r\n    </g>\r\n    <g id=\"line2d_20\">\r\n     <g>\r\n      <use style=\"fill:#ff7f0e;stroke:#ff7f0e;\" x=\"73.574687\" xlink:href=\"#m9674943020\" y=\"50.852812\"/>\r\n     </g>\r\n    </g>\r\n    <g id=\"text_19\">\r\n     <!-- separable_convolution times -->\r\n     <g transform=\"translate(91.574687 54.352812)scale(0.1 -0.1)\">\r\n      <use xlink:href=\"#DejaVuSans-115\"/>\r\n      <use x=\"52.099609\" xlink:href=\"#DejaVuSans-101\"/>\r\n      <use x=\"113.623047\" xlink:href=\"#DejaVuSans-112\"/>\r\n      <use x=\"177.099609\" xlink:href=\"#DejaVuSans-97\"/>\r\n      <use x=\"238.378906\" xlink:href=\"#DejaVuSans-114\"/>\r\n      <use x=\"279.492188\" xlink:href=\"#DejaVuSans-97\"/>\r\n      <use x=\"340.771484\" xlink:href=\"#DejaVuSans-98\"/>\r\n      <use x=\"404.248047\" xlink:href=\"#DejaVuSans-108\"/>\r\n      <use x=\"432.03125\" xlink:href=\"#DejaVuSans-101\"/>\r\n      <use x=\"493.554688\" xlink:href=\"#DejaVuSans-95\"/>\r\n      <use x=\"543.554688\" xlink:href=\"#DejaVuSans-99\"/>\r\n      <use x=\"598.535156\" xlink:href=\"#DejaVuSans-111\"/>\r\n      <use x=\"659.716797\" xlink:href=\"#DejaVuSans-110\"/>\r\n      <use x=\"723.095703\" xlink:href=\"#DejaVuSans-118\"/>\r\n      <use x=\"782.275391\" xlink:href=\"#DejaVuSans-111\"/>\r\n      <use x=\"843.457031\" xlink:href=\"#DejaVuSans-108\"/>\r\n      <use x=\"871.240234\" xlink:href=\"#DejaVuSans-117\"/>\r\n      <use x=\"934.619141\" xlink:href=\"#DejaVuSans-116\"/>\r\n      <use x=\"973.828125\" xlink:href=\"#DejaVuSans-105\"/>\r\n      <use x=\"1001.611328\" xlink:href=\"#DejaVuSans-111\"/>\r\n      <use x=\"1062.792969\" xlink:href=\"#DejaVuSans-110\"/>\r\n      <use x=\"1126.171875\" xlink:href=\"#DejaVuSans-32\"/>\r\n      <use x=\"1157.958984\" xlink:href=\"#DejaVuSans-116\"/>\r\n      <use x=\"1197.167969\" xlink:href=\"#DejaVuSans-105\"/>\r\n      <use x=\"1224.951172\" xlink:href=\"#DejaVuSans-109\"/>\r\n      <use x=\"1322.363281\" xlink:href=\"#DejaVuSans-101\"/>\r\n      <use x=\"1383.886719\" xlink:href=\"#DejaVuSans-115\"/>\r\n     </g>\r\n    </g>\r\n   </g>\r\n  </g>\r\n </g>\r\n <defs>\r\n  <clipPath id=\"p57e389c08b\">\r\n   <rect height=\"217.44\" width=\"334.8\" x=\"54.574687\" y=\"22.798125\"/>\r\n  </clipPath>\r\n </defs>\r\n</svg>\r\n",
      "image/png": "[encoded data removed]"
     },
     "metadata": {
      "needs_background": "light"
     }
    }
   ],
   "source": [
    "fig, ax = plt.subplots()\n",
    "\n",
    "ax.plot(data['m'], data['pyconv_times'], label = \"python_convolution times\", marker = 'o')\n",
    "ax.plot(data['m'], data['spconv_times'], label = \"separable_convolution times\", marker = 'x')\n",
    "ax.set_xlabel('m')\n",
    "ax.set_ylabel('runtime (s)')\n",
    "ax.set_title('Plot of Runtimes for `python_convolution` and `separable_convolution`')\n",
    "ax.legend()"
   ]
  },
  {
   "source": [
    "The runtimes for both functions are for the most part expected. `python_convolution` is approximately $O(n^4)$ (in truth, it is $O(r*c*l*m)$, where $(r,c)$ are the dimensions of the image and $(l,m)$ are the dimensions of the kernel, but this can be generalized to one variable as the values approach infinity). The runtime for `separable_convolution` appears to be $O(1)$, primarily because of the strong optimization of `ss.convolve`, but as the size of the separable kernel approaches infinity, the runtime also scales with the kernel and image size - however, since the operations are one after the other (an intermediate and then final convoluted image), the runtime scales additively, rather than multiplicatively."
   ],
   "cell_type": "markdown",
   "metadata": {}
  },
  {
   "cell_type": "markdown",
   "metadata": {
    "tags": [
     "AST"
    ]
   },
   "source": [
    "### Problem 2.3"
   ]
  },
  {
   "cell_type": "code",
   "execution_count": 64,
   "metadata": {},
   "outputs": [],
   "source": [
    "import skimage.transform.integral as integral\n",
    "def integral_image(f):\n",
    "    return np.pad(integral.integral_image(f), ((1, 0), (1, 0)))"
   ]
  },
  {
   "cell_type": "code",
   "execution_count": 65,
   "metadata": {},
   "outputs": [],
   "source": [
    "@add_timer                      # something's wrong down here\n",
    "def box_convolution(f, size):\n",
    "    F = integral_image(f)\n",
    "    m, n = size\n",
    "    r, c = F.shape\n",
    "    average = m*n\n",
    "    F_s = F[m:, n:] # just outside of the mxn box\n",
    "    F_p = F[:r-m, :c-n] # always inside the mxn box\n",
    "    F_q = F[:r-m, n:] # just after the nth column, always inside the mth row \n",
    "    F_r = F[m:, :c-n] # just under the mth row, always inside the nth column \n",
    "    convolution = (F_s - F_q - F_r + F_p)/average\n",
    "    return convolution.astype(dtype = type(f))"
   ]
  },
  {
   "cell_type": "code",
   "execution_count": 105,
   "metadata": {},
   "outputs": [],
   "source": [
    "report_table = {\n",
    "    'time' : {\n",
    "        'convolution' : None,\n",
    "        'separable_convolution' : None,\n",
    "        'box_convolution' : None,\n",
    "    },\n",
    "    'speedup_factors' : {\n",
    "        'convolution/separable_convolution' : None,\n",
    "        'convolution/box_convolution' : None,\n",
    "        'separable_convolution/box_convolution' : None,\n",
    "    },\n",
    "    'largest_difference' : {\n",
    "        'convolution-separable_convolution': None,\n",
    "        'convolution-box_convolution': None,\n",
    "    }\n",
    "}"
   ]
  },
  {
   "cell_type": "code",
   "execution_count": 106,
   "metadata": {},
   "outputs": [],
   "source": [
    "m, n = 32, 64\n",
    "bf_m_by_one = np.ones(shape = (m, 1), dtype = float)/m\n",
    "bf_one_by_n = np.ones(shape = (1, n), dtype = float)/n\n",
    "bf = (bf_m_by_one*bf_one_by_n)"
   ]
  },
  {
   "cell_type": "code",
   "execution_count": 107,
   "metadata": {},
   "outputs": [],
   "source": [
    "image_pc, report_table['time']['convolution'] = python_convolution(image, bf)"
   ]
  },
  {
   "cell_type": "code",
   "execution_count": 113,
   "metadata": {},
   "outputs": [],
   "source": [
    "image_sc, report_table['time']['separable_convolution'] = separable_convolution(image, (bf_m_by_one, bf_one_by_n))"
   ]
  },
  {
   "cell_type": "code",
   "execution_count": 114,
   "metadata": {},
   "outputs": [],
   "source": [
    "image_bc, report_table['time']['box_convolution'] = box_convolution(image, (m, n))"
   ]
  },
  {
   "cell_type": "code",
   "execution_count": 134,
   "metadata": {},
   "outputs": [],
   "source": [
    "report_table['speedup_factors']['convolution/separable_convolution'] = report_table['time']['convolution']/report_table['time']['separable_convolution']\n",
    "report_table['speedup_factors']['convolution/box_convolution'] = report_table['time']['convolution']/report_table['time']['box_convolution']\n",
    "report_table['speedup_factors']['separable_convolution/box_convolution'] = report_table['time']['separable_convolution']/report_table['time']['box_convolution']"
   ]
  },
  {
   "cell_type": "code",
   "execution_count": 135,
   "metadata": {},
   "outputs": [],
   "source": [
    "report_table['largest_difference']['convolution-separable_convolution'] = largest_difference(image_pc, image_sc)\n",
    "report_table['largest_difference']['convolution-box_convolution'] = largest_difference(image_pc, image_bc)"
   ]
  },
  {
   "cell_type": "code",
   "execution_count": 137,
   "metadata": {},
   "outputs": [],
   "source": [
    "#make the dict table-readable by tabulate\n",
    "for (k1,nest_dict) in report_table.items():\n",
    "    for (k2, v) in nest_dict.items():\n",
    "        if type(nest_dict[k2]) != list:\n",
    "            nest_dict[k2] = [v]"
   ]
  },
  {
   "source": [
    "The output of the tests we've run are below:"
   ],
   "cell_type": "markdown",
   "metadata": {}
  },
  {
   "source": [
    "### Time taken by each of the three functions (s):"
   ],
   "cell_type": "markdown",
   "metadata": {}
  },
  {
   "cell_type": "code",
   "execution_count": 173,
   "metadata": {},
   "outputs": [
    {
     "output_type": "display_data",
     "data": {
      "text/plain": "<IPython.core.display.HTML object>",
      "text/html": "<table>\n<thead>\n<tr><th style=\"text-align: right;\">  convolution</th><th style=\"text-align: right;\">  separable_convolution</th><th style=\"text-align: right;\">  box_convolution</th></tr>\n</thead>\n<tbody>\n<tr><td style=\"text-align: right;\">      575.882</td><td style=\"text-align: right;\">              0.0433817</td><td style=\"text-align: right;\">        0.0158439</td></tr>\n</tbody>\n</table>"
     },
     "metadata": {}
    }
   ],
   "source": [
    "tb1_2_3 = tabulate(report_table['time'], headers = 'keys', tablefmt = \"html\")\n",
    "display(HTML(tb1_2_3))"
   ]
  },
  {
   "source": [
    "### Speedup factors as ratios of runtimes"
   ],
   "cell_type": "markdown",
   "metadata": {}
  },
  {
   "cell_type": "code",
   "execution_count": 174,
   "metadata": {},
   "outputs": [
    {
     "output_type": "display_data",
     "data": {
      "text/plain": "<IPython.core.display.HTML object>",
      "text/html": "<table>\n<thead>\n<tr><th style=\"text-align: right;\">  convolution/separable_convolution</th><th style=\"text-align: right;\">  convolution/box_convolution</th><th style=\"text-align: right;\">  separable_convolution/box_convolution</th></tr>\n</thead>\n<tbody>\n<tr><td style=\"text-align: right;\">                            13274.8</td><td style=\"text-align: right;\">                      36347.2</td><td style=\"text-align: right;\">                                2.73807</td></tr>\n</tbody>\n</table>"
     },
     "metadata": {}
    }
   ],
   "source": [
    "tb2_2_3 = tabulate(report_table['speedup_factors'], headers = 'keys', tablefmt = \"html\")\n",
    "display(HTML(tb2_2_3))"
   ]
  },
  {
   "source": [
    "### Largest difference values"
   ],
   "cell_type": "markdown",
   "metadata": {}
  },
  {
   "cell_type": "code",
   "execution_count": 175,
   "metadata": {},
   "outputs": [
    {
     "output_type": "display_data",
     "data": {
      "text/plain": "<IPython.core.display.HTML object>",
      "text/html": "<table>\n<thead>\n<tr><th style=\"text-align: right;\">  convolution-separable_convolution</th><th style=\"text-align: right;\">  convolution-box_convolution</th></tr>\n</thead>\n<tbody>\n<tr><td style=\"text-align: right;\">                                  1</td><td style=\"text-align: right;\">                            0</td></tr>\n</tbody>\n</table>"
     },
     "metadata": {}
    }
   ],
   "source": [
    "tb3_2_3 = tabulate(report_table['largest_difference'], headers = 'keys', tablefmt = \"html\")\n",
    "display(HTML(tb3_2_3))"
   ]
  },
  {
   "cell_type": "markdown",
   "metadata": {
    "tags": [
     "AST"
    ]
   },
   "source": [
    "### Problem 2.4"
   ]
  },
  {
   "source": [
    "For every pixel in the input image, the kernel applies 7 scalar operations. The first three are done by generating the integral image in the first place. The second three are applied by getting the space $S$ from $S = F(s) - F(q) - F(r) + F(p)$. The last operation is the division of the space by the uniform scalar value $m*m$, where $(m,m)$ are the dimensions of the box kernel applied to the image. Notice, however, that the runtime of the operation is contingent only on the size of the input image, as that governs the number of pixels that those $O(1)$ operations have to be performed on.\n",
    "\n",
    "Compared to `box_convolution`, both separable and normal convolution (`python_convolution`) have more operations per pixel, and, unlike `box_convolution`, these operations increase with the size of the kernel. For a basic convolution, we multiply a single pixel at most $2mn$ times. Separable convolution reduces the number of operations by producing an \"intermediate\" convoluted image - the number of operations performed on the input image by a separable matrix is first at most $2m$ operations, then $2n$ operations, for a total of $2m + 2n$ operations per pixel."
   ],
   "cell_type": "markdown",
   "metadata": {}
  }
 ],
 "metadata": {
  "kernelspec": {
   "display_name": "Python 3",
   "language": "python",
   "name": "python3"
  },
  "language_info": {
   "codemirror_mode": {
    "name": "ipython",
    "version": 3
   },
   "file_extension": ".py",
   "mimetype": "text/x-python",
   "name": "python",
   "nbconvert_exporter": "python",
   "pygments_lexer": "ipython3",
   "version": "3.8.5-final"
  },
  "pycharm": {
   "stem_cell": {
    "cell_type": "raw",
    "metadata": {
     "collapsed": false
    },
    "source": []
   }
  }
 },
 "nbformat": 4,
 "nbformat_minor": 2
}