{
 "cells": [
  {
   "cell_type": "markdown",
   "metadata": {
    "tags": [
     "AST"
    ]
   },
   "source": [
    "<style>\n",
    "    @media print{\n",
    "        body {\n",
    "            position:relative !important;\n",
    "        }\n",
    "        .celltag_new_page {\n",
    "            page-break-before: always !important;\n",
    "        }\n",
    "    }\n",
    "</style>\n",
    "# COMPSCI 527 Homework 6"
   ]
  },
  {
   "cell_type": "markdown",
   "metadata": {
    "tags": [
     "AT"
    ]
   },
   "source": [
    "### Problem 0 (3 points)"
   ]
  },
  {
   "source": [
    "## Group Members: Shivam Kaul, Gin Wang, Beck Addison"
   ],
   "cell_type": "markdown",
   "metadata": {}
  },
  {
   "cell_type": "code",
   "execution_count": 171,
   "metadata": {},
   "outputs": [],
   "source": [
    "### IMPORTS ###\n",
    "import numpy as np\n",
    "import matplotlib.pyplot as plt"
   ]
  },
  {
   "cell_type": "markdown",
   "metadata": {
    "tags": [
     "AST"
    ]
   },
   "source": [
    "## Part 1: Image Motion Basics "
   ]
  },
  {
   "cell_type": "markdown",
   "metadata": {
    "tags": [
     "AST"
    ]
   },
   "source": [
    "### Problem 1.1 (Exam Style)"
   ]
  },
  {
   "source": [
    "$$\n",
    "\\frac{1}{\\sqrt{3^2+4^2}}\n",
    "\\begin{bmatrix} \n",
    "3,4\n",
    "\\end{bmatrix}\n",
    "\\begin{bmatrix}\n",
    "1 \\\\\n",
    "3 \n",
    "\\end{bmatrix} = 3\n",
    "$$"
   ],
   "cell_type": "markdown",
   "metadata": {}
  },
  {
   "cell_type": "markdown",
   "metadata": {
    "tags": [
     "AST"
    ]
   },
   "source": [
    "### Problem 1.2 (Exam Style)"
   ]
  },
  {
   "source": [
    "$$(1,1)^T \\textbf{v} -5=0$$\n",
    "$$(-1,1)^T \\textbf{v}+1 = 0$$\n",
    "$$(1,1)^T \\textbf{v} =5$$\n",
    "$$(-1,1)^T \\textbf{v} = -1$$\n",
    "\n",
    "Let $\\textbf{v} = x,y$, \n",
    "$$x+y=5$$\n",
    "$$-x+y=-1$$\n",
    "$$\\textbf{v} = (3,2)$$"
   ],
   "cell_type": "markdown",
   "metadata": {}
  },
  {
   "cell_type": "markdown",
   "metadata": {
    "tags": [
     "AST"
    ]
   },
   "source": [
    "## Part 2: Window Tracking "
   ]
  },
  {
   "cell_type": "code",
   "execution_count": 132,
   "metadata": {},
   "outputs": [],
   "source": [
    "g1 = np.array(\n",
    "    [[6,2,4],\n",
    "     [8,2,2],\n",
    "     [2,4,4]])\n",
    "g2 = np.array(\n",
    "    [[9,3,6],\n",
    "     [12,3,3],\n",
    "     [3,6,6]])\n",
    "gradient_g = np.array([g1,g2])\n",
    "\n",
    "image_diff = np.array(\n",
    "    [[0, 5, 0],\n",
    "     [0, 0, 10],\n",
    "     [15, 0, 0]])"
   ]
  },
  {
   "cell_type": "markdown",
   "metadata": {
    "tags": [
     "AST"
    ]
   },
   "source": [
    "### Problem 2.1 (Exam Style)"
   ]
  },
  {
   "source": [
    "The formula for $A$ is given as:\n",
    "\n",
    "$$A = \\sum_{\\mathbf{x}}\\nabla g(\\mathbf{x})\\, [\\nabla g(\\mathbf{x})]^T w(\\mathbf{x}-\\mathbf{x}_f)$$\n",
    "\n",
    "where\n",
    "$$\n",
    "\\nabla g(\\mathbf{x}) = \\begin{bmatrix}\\begin{bmatrix}\n",
    "6 & 2 & 4\\\\\n",
    "8 & 2 & 2\\\\\n",
    "2 & 4 & 4\n",
    "\\end{bmatrix}\n",
    "\\\\\\begin{bmatrix}\n",
    "9 & 3 & 6\\\\\n",
    "12 & 3 & 3\\\\\n",
    "3 & 6 & 6\n",
    "\\end{bmatrix}\n",
    "\\end{bmatrix}\n",
    "$$\n"
   ],
   "cell_type": "markdown",
   "metadata": {}
  },
  {
   "cell_type": "code",
   "execution_count": 138,
   "metadata": {},
   "outputs": [
    {
     "output_type": "execute_result",
     "data": {
      "text/plain": [
       "array([[164., 246.],\n",
       "       [246., 369.]])"
      ]
     },
     "metadata": {},
     "execution_count": 138
    }
   ],
   "source": [
    "A = np.zeros((2,2))\n",
    "for i in range(g1.shape[0]):\n",
    "  for j in range(g1.shape[1]):\n",
    "    x = np.array([g1[i,j],g2[i,j]])\n",
    "    x = x.reshape((2,1))\n",
    "    A = A + np.matmul(x,x.T)\n",
    "A"
   ]
  },
  {
   "source": [
    "So \n",
    "$$\n",
    "A = \\sum_{\\mathbf{x}}\\nabla g(\\mathbf{x})\\, [\\nabla g(\\mathbf{x})]^T w(\\mathbf{x}-\\mathbf{x}_f) = \n",
    "\\begin{bmatrix}\n",
    "164 & 246 \\\\\n",
    "246 & 369\n",
    "\\end{bmatrix}\n",
    "$$\n",
    "\n"
   ],
   "cell_type": "markdown",
   "metadata": {}
  },
  {
   "source": [
    "Similarly,\n",
    "\n",
    "$$\n",
    "\\mathbf{b} = \\sum_{\\mathbf{x}}\\nabla g(\\mathbf{x})\\,  [f(\\mathbf{x}) - g(\\mathbf{x}) ]\\, w(\\mathbf{x}-\\mathbf{x}_f)\n",
    "$$\n",
    "\n",
    "and\n",
    "\n",
    "\n",
    "$$\n",
    "[f(\\mathbf{x}) - g(\\mathbf{x})] = \n",
    "\\begin{bmatrix} \n",
    "0 & 5 & 0  \\\\\n",
    "0 & 0 & 10 \\\\\n",
    "15 & 0 & 0 \n",
    "\\end{bmatrix}\n",
    "$$"
   ],
   "cell_type": "markdown",
   "metadata": {}
  },
  {
   "cell_type": "code",
   "execution_count": 137,
   "metadata": {},
   "outputs": [
    {
     "output_type": "execute_result",
     "data": {
      "text/plain": [
       "array([[60],\n",
       "       [90]])"
      ]
     },
     "metadata": {},
     "execution_count": 137
    }
   ],
   "source": [
    "b = np.sum(\n",
    "    gradient_g[:, 0:g1.shape[0], 0:g1.shape[1]] * \n",
    "    image_diff[0:g1.shape[0], 0:g1.shape[1]], \n",
    "    axis = (1,2)) \\\n",
    "    .reshape((2,1))\n",
    "b"
   ]
  },
  {
   "source": [
    "Hence\n",
    "\n",
    "$$\n",
    "b = \n",
    "\\begin{bmatrix}\n",
    "60 \\\\\n",
    "90\n",
    "\\end{bmatrix}\n",
    "$$"
   ],
   "cell_type": "markdown",
   "metadata": {}
  },
  {
   "cell_type": "markdown",
   "metadata": {
    "tags": [
     "AST"
    ]
   },
   "source": [
    "### Problem 2.2 (Exam Style)"
   ]
  },
  {
   "source": [
    "The given feature $x_f$ does not suffer from the aperture problem because using the Lucas-Kanade tracker eliminates it owing to its assumption of constant motion in the immediate neighborhood. "
   ],
   "cell_type": "markdown",
   "metadata": {}
  },
  {
   "cell_type": "markdown",
   "metadata": {
    "tags": [
     "AST"
    ]
   },
   "source": [
    "### Problem 2.3"
   ]
  },
  {
   "source": [
    "np.round(\n",
    "    np.linalg.pinv(A) @ b, \n",
    "    decimals = 2)"
   ],
   "cell_type": "code",
   "metadata": {},
   "execution_count": 157,
   "outputs": [
    {
     "output_type": "execute_result",
     "data": {
      "text/plain": [
       "array([[0.11],\n",
       "       [0.17]])"
      ]
     },
     "metadata": {},
     "execution_count": 157
    }
   ]
  },
  {
   "source": [
    "The approximate minimum-norm solution $x_0$ to the linear system is (to the nearest hundredth):\n",
    "\n",
    "$$\n",
    "\\begin{bmatrix}\n",
    "0.11 \\\\\n",
    "0.17\n",
    "\\end{bmatrix}\n",
    "$$"
   ],
   "cell_type": "markdown",
   "metadata": {}
  },
  {
   "cell_type": "markdown",
   "metadata": {
    "tags": [
     "AST"
    ]
   },
   "source": [
    "### Problem 2.4"
   ]
  },
  {
   "source": [
    "The given equation is a linear equation and can be solved by taking the product of the pseudo-inverse of $A$ and $b$.\n",
    "$$Ax = b$$\n",
    "\n",
    "Let the Singular Value Decomposition of $A$ be given as the following:\n",
    "$$ A = USV^T$$\n",
    "Then,\n",
    "$$A_{pseudo} = (USV^T)^{-1} = VS^{-1}U^T$$\n",
    "<br>\n",
    "Hence, the general solution for $x$ can be determined by:\n",
    "$$x = A_{pseudo}*b = VS^{-1}U^Tb$$"
   ],
   "cell_type": "markdown",
   "metadata": {}
  },
  {
   "cell_type": "markdown",
   "metadata": {
    "tags": [
     "AST"
    ]
   },
   "source": [
    "## Part 3: The Lucas-Kanade Tracker"
   ]
  },
  {
   "cell_type": "markdown",
   "metadata": {
    "tags": [
     "AST"
    ]
   },
   "source": [
    "### Problem 3.1"
   ]
  },
  {
   "cell_type": "code",
   "execution_count": 170,
   "metadata": {},
   "outputs": [],
   "source": [
    "def x_range(sigma):\n",
    "    trunc_limit = np.ceil(3. * sigma)\n",
    "    x_range = np.arange(2 * trunc_limit + 1) - trunc_limit\n",
    "    return x_range"
   ]
  },
  {
   "cell_type": "code",
   "execution_count": 175,
   "metadata": {},
   "outputs": [],
   "source": [
    "def averaging_kernel(sigma):\n",
    "    \n",
    "    def gauss_in_x(x, sigma):\n",
    "        return np.exp(-x**2/(2*sigma**2))\n",
    "\n",
    "    x = x_range(sigma)\n",
    "    averaging_kernel = gauss_in_x(x, sigma)\n",
    "    normalized_ave_kernel = 1/(np.linalg.norm(averaging_kernel))*averaging_kernel\n",
    "    return normalized_ave_kernel, x\n",
    "    "
   ]
  },
  {
   "source": [
    "def differentiation_kernel(sigma):\n",
    "    x = x_range(sigma)\n",
    "    def differentiated_gaussian(x, sigma):\n",
    "        # literally just the derivative of the gaussian function (I hope that's what it's looking for!)\n",
    "        return (-x/sigma**2)*np.exp(-x**2/(2*sigma**2))\n",
    "        \n",
    "    differentiation_kernel = differentiated_gaussian(x, sigma)\n",
    "    normalized_diff_kernel = 1/(np.linalg.norm(differentiation_kernel))*differentiation_kernel\n",
    "    return normalized_diff_kernel, x"
   ],
   "cell_type": "code",
   "metadata": {},
   "execution_count": 182,
   "outputs": []
  },
  {
   "cell_type": "code",
   "execution_count": 194,
   "metadata": {},
   "outputs": [
    {
     "output_type": "execute_result",
     "data": {
      "text/plain": [
       "<matplotlib.collections.PathCollection at 0x159b74db250>"
      ]
     },
     "metadata": {},
     "execution_count": 194
    },
    {
     "output_type": "display_data",
     "data": {
      "text/plain": "<Figure size 432x288 with 2 Axes>",
      "image/svg+xml": "<?xml version=\"1.0\" encoding=\"utf-8\" standalone=\"no\"?>\r\n<!DOCTYPE svg PUBLIC \"-//W3C//DTD SVG 1.1//EN\"\r\n  \"http://www.w3.org/Graphics/SVG/1.1/DTD/svg11.dtd\">\r\n<!-- Created with matplotlib (https://matplotlib.org/) -->\r\n<svg height=\"250.815046pt\" version=\"1.1\" viewBox=\"0 0 378.465625 250.815046\" width=\"378.465625pt\" xmlns=\"http://www.w3.org/2000/svg\" xmlns:xlink=\"http://www.w3.org/1999/xlink\">\r\n <metadata>\r\n  <rdf:RDF xmlns:cc=\"http://creativecommons.org/ns#\" xmlns:dc=\"http://purl.org/dc/elements/1.1/\" xmlns:rdf=\"http://www.w3.org/1999/02/22-rdf-syntax-ns#\">\r\n   <cc:Work>\r\n    <dc:type rdf:resource=\"http://purl.org/dc/dcmitype/StillImage\"/>\r\n    <dc:date>2021-03-25T04:08:10.306331</dc:date>\r\n    <dc:format>image/svg+xml</dc:format>\r\n    <dc:creator>\r\n     <cc:Agent>\r\n      <dc:title>Matplotlib v3.3.2, https://matplotlib.org/</dc:title>\r\n     </cc:Agent>\r\n    </dc:creator>\r\n   </cc:Work>\r\n  </rdf:RDF>\r\n </metadata>\r\n <defs>\r\n  <style type=\"text/css\">*{stroke-linecap:butt;stroke-linejoin:round;}</style>\r\n </defs>\r\n <g id=\"figure_1\">\r\n  <g id=\"patch_1\">\r\n   <path d=\"M 0 250.815046 \r\nL 378.465625 250.815046 \r\nL 378.465625 0 \r\nL 0 0 \r\nz\r\n\" style=\"fill:none;\"/>\r\n  </g>\r\n  <g id=\"axes_1\">\r\n   <g id=\"patch_2\">\r\n    <path d=\"M 36.465625 226.936921 \r\nL 188.647443 226.936921 \r\nL 188.647443 9.496921 \r\nL 36.465625 9.496921 \r\nz\r\n\" style=\"fill:#ffffff;\"/>\r\n   </g>\r\n   <g id=\"PathCollection_1\">\r\n    <defs>\r\n     <path d=\"M 0 3 \r\nC 0.795609 3 1.55874 2.683901 2.12132 2.12132 \r\nC 2.683901 1.55874 3 0.795609 3 0 \r\nC 3 -0.795609 2.683901 -1.55874 2.12132 -2.12132 \r\nC 1.55874 -2.683901 0.795609 -3 0 -3 \r\nC -0.795609 -3 -1.55874 -2.683901 -2.12132 -2.12132 \r\nC -2.683901 -1.55874 -3 -0.795609 -3 0 \r\nC -3 0.795609 -2.683901 1.55874 -2.12132 2.12132 \r\nC -1.55874 2.683901 -0.795609 3 0 3 \r\nz\r\n\" id=\"m0933dc24d1\" style=\"stroke:#1f77b4;\"/>\r\n    </defs>\r\n    <g clip-path=\"url(#pd1bfaf4b0a)\">\r\n     <use style=\"fill:#1f77b4;stroke:#1f77b4;\" x=\"43.38298\" xlink:href=\"#m0933dc24d1\" y=\"217.053285\"/>\r\n     <use style=\"fill:#1f77b4;stroke:#1f77b4;\" x=\"47.994551\" xlink:href=\"#m0933dc24d1\" y=\"215.307797\"/>\r\n     <use style=\"fill:#1f77b4;stroke:#1f77b4;\" x=\"52.606121\" xlink:href=\"#m0933dc24d1\" y=\"212.46804\"/>\r\n     <use style=\"fill:#1f77b4;stroke:#1f77b4;\" x=\"57.217691\" xlink:href=\"#m0933dc24d1\" y=\"208.052934\"/>\r\n     <use style=\"fill:#1f77b4;stroke:#1f77b4;\" x=\"61.829261\" xlink:href=\"#m0933dc24d1\" y=\"201.49906\"/>\r\n     <use style=\"fill:#1f77b4;stroke:#1f77b4;\" x=\"66.440832\" xlink:href=\"#m0933dc24d1\" y=\"192.221277\"/>\r\n     <use style=\"fill:#1f77b4;stroke:#1f77b4;\" x=\"71.052402\" xlink:href=\"#m0933dc24d1\" y=\"179.715267\"/>\r\n     <use style=\"fill:#1f77b4;stroke:#1f77b4;\" x=\"75.663972\" xlink:href=\"#m0933dc24d1\" y=\"163.696094\"/>\r\n     <use style=\"fill:#1f77b4;stroke:#1f77b4;\" x=\"80.275542\" xlink:href=\"#m0933dc24d1\" y=\"144.25171\"/>\r\n     <use style=\"fill:#1f77b4;stroke:#1f77b4;\" x=\"84.887113\" xlink:href=\"#m0933dc24d1\" y=\"121.975364\"/>\r\n     <use style=\"fill:#1f77b4;stroke:#1f77b4;\" x=\"89.498683\" xlink:href=\"#m0933dc24d1\" y=\"98.032459\"/>\r\n     <use style=\"fill:#1f77b4;stroke:#1f77b4;\" x=\"94.110253\" xlink:href=\"#m0933dc24d1\" y=\"74.121542\"/>\r\n     <use style=\"fill:#1f77b4;stroke:#1f77b4;\" x=\"98.721823\" xlink:href=\"#m0933dc24d1\" y=\"52.308946\"/>\r\n     <use style=\"fill:#1f77b4;stroke:#1f77b4;\" x=\"103.333394\" xlink:href=\"#m0933dc24d1\" y=\"34.749088\"/>\r\n     <use style=\"fill:#1f77b4;stroke:#1f77b4;\" x=\"107.944964\" xlink:href=\"#m0933dc24d1\" y=\"23.338711\"/>\r\n     <use style=\"fill:#1f77b4;stroke:#1f77b4;\" x=\"112.556534\" xlink:href=\"#m0933dc24d1\" y=\"19.380558\"/>\r\n     <use style=\"fill:#1f77b4;stroke:#1f77b4;\" x=\"117.168104\" xlink:href=\"#m0933dc24d1\" y=\"23.338711\"/>\r\n     <use style=\"fill:#1f77b4;stroke:#1f77b4;\" x=\"121.779675\" xlink:href=\"#m0933dc24d1\" y=\"34.749088\"/>\r\n     <use style=\"fill:#1f77b4;stroke:#1f77b4;\" x=\"126.391245\" xlink:href=\"#m0933dc24d1\" y=\"52.308946\"/>\r\n     <use style=\"fill:#1f77b4;stroke:#1f77b4;\" x=\"131.002815\" xlink:href=\"#m0933dc24d1\" y=\"74.121542\"/>\r\n     <use style=\"fill:#1f77b4;stroke:#1f77b4;\" x=\"135.614385\" xlink:href=\"#m0933dc24d1\" y=\"98.032459\"/>\r\n     <use style=\"fill:#1f77b4;stroke:#1f77b4;\" x=\"140.225956\" xlink:href=\"#m0933dc24d1\" y=\"121.975364\"/>\r\n     <use style=\"fill:#1f77b4;stroke:#1f77b4;\" x=\"144.837526\" xlink:href=\"#m0933dc24d1\" y=\"144.25171\"/>\r\n     <use style=\"fill:#1f77b4;stroke:#1f77b4;\" x=\"149.449096\" xlink:href=\"#m0933dc24d1\" y=\"163.696094\"/>\r\n     <use style=\"fill:#1f77b4;stroke:#1f77b4;\" x=\"154.060666\" xlink:href=\"#m0933dc24d1\" y=\"179.715267\"/>\r\n     <use style=\"fill:#1f77b4;stroke:#1f77b4;\" x=\"158.672237\" xlink:href=\"#m0933dc24d1\" y=\"192.221277\"/>\r\n     <use style=\"fill:#1f77b4;stroke:#1f77b4;\" x=\"163.283807\" xlink:href=\"#m0933dc24d1\" y=\"201.49906\"/>\r\n     <use style=\"fill:#1f77b4;stroke:#1f77b4;\" x=\"167.895377\" xlink:href=\"#m0933dc24d1\" y=\"208.052934\"/>\r\n     <use style=\"fill:#1f77b4;stroke:#1f77b4;\" x=\"172.506947\" xlink:href=\"#m0933dc24d1\" y=\"212.46804\"/>\r\n     <use style=\"fill:#1f77b4;stroke:#1f77b4;\" x=\"177.118518\" xlink:href=\"#m0933dc24d1\" y=\"215.307797\"/>\r\n     <use style=\"fill:#1f77b4;stroke:#1f77b4;\" x=\"181.730088\" xlink:href=\"#m0933dc24d1\" y=\"217.053285\"/>\r\n    </g>\r\n   </g>\r\n   <g id=\"matplotlib.axis_1\">\r\n    <g id=\"xtick_1\">\r\n     <g id=\"line2d_1\">\r\n      <defs>\r\n       <path d=\"M 0 0 \r\nL 0 3.5 \r\n\" id=\"me58155022d\" style=\"stroke:#000000;stroke-width:0.8;\"/>\r\n      </defs>\r\n      <g>\r\n       <use style=\"stroke:#000000;stroke-width:0.8;\" x=\"43.38298\" xlink:href=\"#me58155022d\" y=\"226.936921\"/>\r\n      </g>\r\n     </g>\r\n     <g id=\"text_1\">\r\n      <!-- $-3\\sigma$ -->\r\n      <g transform=\"translate(32.83298 241.535359)scale(0.1 -0.1)\">\r\n       <defs>\r\n        <path d=\"M 10.59375 35.5 \r\nL 73.1875 35.5 \r\nL 73.1875 27.203125 \r\nL 10.59375 27.203125 \r\nz\r\n\" id=\"DejaVuSans-8722\"/>\r\n        <path d=\"M 40.578125 39.3125 \r\nQ 47.65625 37.796875 51.625 33 \r\nQ 55.609375 28.21875 55.609375 21.1875 \r\nQ 55.609375 10.40625 48.1875 4.484375 \r\nQ 40.765625 -1.421875 27.09375 -1.421875 \r\nQ 22.515625 -1.421875 17.65625 -0.515625 \r\nQ 12.796875 0.390625 7.625 2.203125 \r\nL 7.625 11.71875 \r\nQ 11.71875 9.328125 16.59375 8.109375 \r\nQ 21.484375 6.890625 26.8125 6.890625 \r\nQ 36.078125 6.890625 40.9375 10.546875 \r\nQ 45.796875 14.203125 45.796875 21.1875 \r\nQ 45.796875 27.640625 41.28125 31.265625 \r\nQ 36.765625 34.90625 28.71875 34.90625 \r\nL 20.21875 34.90625 \r\nL 20.21875 43.015625 \r\nL 29.109375 43.015625 \r\nQ 36.375 43.015625 40.234375 45.921875 \r\nQ 44.09375 48.828125 44.09375 54.296875 \r\nQ 44.09375 59.90625 40.109375 62.90625 \r\nQ 36.140625 65.921875 28.71875 65.921875 \r\nQ 24.65625 65.921875 20.015625 65.03125 \r\nQ 15.375 64.15625 9.8125 62.3125 \r\nL 9.8125 71.09375 \r\nQ 15.4375 72.65625 20.34375 73.4375 \r\nQ 25.25 74.21875 29.59375 74.21875 \r\nQ 40.828125 74.21875 47.359375 69.109375 \r\nQ 53.90625 64.015625 53.90625 55.328125 \r\nQ 53.90625 49.265625 50.4375 45.09375 \r\nQ 46.96875 40.921875 40.578125 39.3125 \r\nz\r\n\" id=\"DejaVuSans-51\"/>\r\n        <path d=\"M 34.671875 47.5625 \r\nQ 27.25 47.5625 22.21875 42.1875 \r\nQ 16.890625 36.578125 15.140625 27.296875 \r\nQ 13.1875 17.484375 16.3125 11.8125 \r\nQ 19.390625 6.203125 26.65625 6.203125 \r\nQ 33.84375 6.203125 39.109375 11.859375 \r\nQ 44.4375 17.53125 46.34375 27.296875 \r\nQ 48.046875 36.234375 45.015625 42.1875 \r\nQ 42.1875 47.5625 34.671875 47.5625 \r\nz\r\nM 36.078125 54.734375 \r\nL 65.921875 54.6875 \r\nL 64.15625 45.703125 \r\nL 54.109375 45.703125 \r\nQ 57.90625 38.09375 55.859375 27.296875 \r\nQ 53.21875 13.875 45.0625 6.25 \r\nQ 36.859375 -1.421875 25.140625 -1.421875 \r\nQ 13.375 -1.421875 8.203125 6.25 \r\nQ 3.03125 13.875 5.671875 27.296875 \r\nQ 8.25 40.765625 16.40625 48.390625 \r\nQ 23.1875 54.734375 36.078125 54.734375 \r\nz\r\n\" id=\"DejaVuSans-Oblique-963\"/>\r\n       </defs>\r\n       <use transform=\"translate(0 0.78125)\" xlink:href=\"#DejaVuSans-8722\"/>\r\n       <use transform=\"translate(83.789062 0.78125)\" xlink:href=\"#DejaVuSans-51\"/>\r\n       <use transform=\"translate(147.412109 0.78125)\" xlink:href=\"#DejaVuSans-Oblique-963\"/>\r\n      </g>\r\n     </g>\r\n    </g>\r\n    <g id=\"xtick_2\">\r\n     <g id=\"line2d_2\">\r\n      <g>\r\n       <use style=\"stroke:#000000;stroke-width:0.8;\" x=\"66.440832\" xlink:href=\"#me58155022d\" y=\"226.936921\"/>\r\n      </g>\r\n     </g>\r\n     <g id=\"text_2\">\r\n      <!-- $-2\\sigma$ -->\r\n      <g transform=\"translate(55.890832 241.535359)scale(0.1 -0.1)\">\r\n       <defs>\r\n        <path d=\"M 19.1875 8.296875 \r\nL 53.609375 8.296875 \r\nL 53.609375 0 \r\nL 7.328125 0 \r\nL 7.328125 8.296875 \r\nQ 12.9375 14.109375 22.625 23.890625 \r\nQ 32.328125 33.6875 34.8125 36.53125 \r\nQ 39.546875 41.84375 41.421875 45.53125 \r\nQ 43.3125 49.21875 43.3125 52.78125 \r\nQ 43.3125 58.59375 39.234375 62.25 \r\nQ 35.15625 65.921875 28.609375 65.921875 \r\nQ 23.96875 65.921875 18.8125 64.3125 \r\nQ 13.671875 62.703125 7.8125 59.421875 \r\nL 7.8125 69.390625 \r\nQ 13.765625 71.78125 18.9375 73 \r\nQ 24.125 74.21875 28.421875 74.21875 \r\nQ 39.75 74.21875 46.484375 68.546875 \r\nQ 53.21875 62.890625 53.21875 53.421875 \r\nQ 53.21875 48.921875 51.53125 44.890625 \r\nQ 49.859375 40.875 45.40625 35.40625 \r\nQ 44.1875 33.984375 37.640625 27.21875 \r\nQ 31.109375 20.453125 19.1875 8.296875 \r\nz\r\n\" id=\"DejaVuSans-50\"/>\r\n       </defs>\r\n       <use transform=\"translate(0 0.78125)\" xlink:href=\"#DejaVuSans-8722\"/>\r\n       <use transform=\"translate(83.789062 0.78125)\" xlink:href=\"#DejaVuSans-50\"/>\r\n       <use transform=\"translate(147.412109 0.78125)\" xlink:href=\"#DejaVuSans-Oblique-963\"/>\r\n      </g>\r\n     </g>\r\n    </g>\r\n    <g id=\"xtick_3\">\r\n     <g id=\"line2d_3\">\r\n      <g>\r\n       <use style=\"stroke:#000000;stroke-width:0.8;\" x=\"89.498683\" xlink:href=\"#me58155022d\" y=\"226.936921\"/>\r\n      </g>\r\n     </g>\r\n     <g id=\"text_3\">\r\n      <!-- $-\\sigma$ -->\r\n      <g transform=\"translate(82.098683 241.535359)scale(0.1 -0.1)\">\r\n       <use transform=\"translate(0 0.265625)\" xlink:href=\"#DejaVuSans-8722\"/>\r\n       <use transform=\"translate(83.789062 0.265625)\" xlink:href=\"#DejaVuSans-Oblique-963\"/>\r\n      </g>\r\n     </g>\r\n    </g>\r\n    <g id=\"xtick_4\">\r\n     <g id=\"line2d_4\">\r\n      <g>\r\n       <use style=\"stroke:#000000;stroke-width:0.8;\" x=\"112.556534\" xlink:href=\"#me58155022d\" y=\"226.936921\"/>\r\n      </g>\r\n     </g>\r\n     <g id=\"text_4\">\r\n      <!-- 0 -->\r\n      <g transform=\"translate(109.375284 241.535359)scale(0.1 -0.1)\">\r\n       <defs>\r\n        <path d=\"M 31.78125 66.40625 \r\nQ 24.171875 66.40625 20.328125 58.90625 \r\nQ 16.5 51.421875 16.5 36.375 \r\nQ 16.5 21.390625 20.328125 13.890625 \r\nQ 24.171875 6.390625 31.78125 6.390625 \r\nQ 39.453125 6.390625 43.28125 13.890625 \r\nQ 47.125 21.390625 47.125 36.375 \r\nQ 47.125 51.421875 43.28125 58.90625 \r\nQ 39.453125 66.40625 31.78125 66.40625 \r\nz\r\nM 31.78125 74.21875 \r\nQ 44.046875 74.21875 50.515625 64.515625 \r\nQ 56.984375 54.828125 56.984375 36.375 \r\nQ 56.984375 17.96875 50.515625 8.265625 \r\nQ 44.046875 -1.421875 31.78125 -1.421875 \r\nQ 19.53125 -1.421875 13.0625 8.265625 \r\nQ 6.59375 17.96875 6.59375 36.375 \r\nQ 6.59375 54.828125 13.0625 64.515625 \r\nQ 19.53125 74.21875 31.78125 74.21875 \r\nz\r\n\" id=\"DejaVuSans-48\"/>\r\n       </defs>\r\n       <use xlink:href=\"#DejaVuSans-48\"/>\r\n      </g>\r\n     </g>\r\n    </g>\r\n    <g id=\"xtick_5\">\r\n     <g id=\"line2d_5\">\r\n      <g>\r\n       <use style=\"stroke:#000000;stroke-width:0.8;\" x=\"135.614385\" xlink:href=\"#me58155022d\" y=\"226.936921\"/>\r\n      </g>\r\n     </g>\r\n     <g id=\"text_5\">\r\n      <!-- $\\sigma$ -->\r\n      <g transform=\"translate(132.414385 241.535359)scale(0.1 -0.1)\">\r\n       <use transform=\"translate(0 0.265625)\" xlink:href=\"#DejaVuSans-Oblique-963\"/>\r\n      </g>\r\n     </g>\r\n    </g>\r\n    <g id=\"xtick_6\">\r\n     <g id=\"line2d_6\">\r\n      <g>\r\n       <use style=\"stroke:#000000;stroke-width:0.8;\" x=\"158.672237\" xlink:href=\"#me58155022d\" y=\"226.936921\"/>\r\n      </g>\r\n     </g>\r\n     <g id=\"text_6\">\r\n      <!-- $2\\sigma$ -->\r\n      <g transform=\"translate(152.272237 241.535359)scale(0.1 -0.1)\">\r\n       <use transform=\"translate(0 0.78125)\" xlink:href=\"#DejaVuSans-50\"/>\r\n       <use transform=\"translate(63.623047 0.78125)\" xlink:href=\"#DejaVuSans-Oblique-963\"/>\r\n      </g>\r\n     </g>\r\n    </g>\r\n    <g id=\"xtick_7\">\r\n     <g id=\"line2d_7\">\r\n      <g>\r\n       <use style=\"stroke:#000000;stroke-width:0.8;\" x=\"181.730088\" xlink:href=\"#me58155022d\" y=\"226.936921\"/>\r\n      </g>\r\n     </g>\r\n     <g id=\"text_7\">\r\n      <!-- $3\\sigma$ -->\r\n      <g transform=\"translate(175.330088 241.535359)scale(0.1 -0.1)\">\r\n       <use transform=\"translate(0 0.78125)\" xlink:href=\"#DejaVuSans-51\"/>\r\n       <use transform=\"translate(63.623047 0.78125)\" xlink:href=\"#DejaVuSans-Oblique-963\"/>\r\n      </g>\r\n     </g>\r\n    </g>\r\n   </g>\r\n   <g id=\"matplotlib.axis_2\">\r\n    <g id=\"ytick_1\">\r\n     <g id=\"line2d_8\">\r\n      <defs>\r\n       <path d=\"M 0 0 \r\nL -3.5 0 \r\n\" id=\"m2912abe3c0\" style=\"stroke:#000000;stroke-width:0.8;\"/>\r\n      </defs>\r\n      <g>\r\n       <use style=\"stroke:#000000;stroke-width:0.8;\" x=\"36.465625\" xlink:href=\"#m2912abe3c0\" y=\"219.273899\"/>\r\n      </g>\r\n     </g>\r\n     <g id=\"text_8\">\r\n      <!-- 0.00 -->\r\n      <g transform=\"translate(7.2 223.073118)scale(0.1 -0.1)\">\r\n       <defs>\r\n        <path d=\"M 10.6875 12.40625 \r\nL 21 12.40625 \r\nL 21 0 \r\nL 10.6875 0 \r\nz\r\n\" id=\"DejaVuSans-46\"/>\r\n       </defs>\r\n       <use xlink:href=\"#DejaVuSans-48\"/>\r\n       <use x=\"63.623047\" xlink:href=\"#DejaVuSans-46\"/>\r\n       <use x=\"95.410156\" xlink:href=\"#DejaVuSans-48\"/>\r\n       <use x=\"159.033203\" xlink:href=\"#DejaVuSans-48\"/>\r\n      </g>\r\n     </g>\r\n    </g>\r\n    <g id=\"ytick_2\">\r\n     <g id=\"line2d_9\">\r\n      <g>\r\n       <use style=\"stroke:#000000;stroke-width:0.8;\" x=\"36.465625\" xlink:href=\"#m2912abe3c0\" y=\"189.520374\"/>\r\n      </g>\r\n     </g>\r\n     <g id=\"text_9\">\r\n      <!-- 0.05 -->\r\n      <g transform=\"translate(7.2 193.319592)scale(0.1 -0.1)\">\r\n       <defs>\r\n        <path d=\"M 10.796875 72.90625 \r\nL 49.515625 72.90625 \r\nL 49.515625 64.59375 \r\nL 19.828125 64.59375 \r\nL 19.828125 46.734375 \r\nQ 21.96875 47.46875 24.109375 47.828125 \r\nQ 26.265625 48.1875 28.421875 48.1875 \r\nQ 40.625 48.1875 47.75 41.5 \r\nQ 54.890625 34.8125 54.890625 23.390625 \r\nQ 54.890625 11.625 47.5625 5.09375 \r\nQ 40.234375 -1.421875 26.90625 -1.421875 \r\nQ 22.3125 -1.421875 17.546875 -0.640625 \r\nQ 12.796875 0.140625 7.71875 1.703125 \r\nL 7.71875 11.625 \r\nQ 12.109375 9.234375 16.796875 8.0625 \r\nQ 21.484375 6.890625 26.703125 6.890625 \r\nQ 35.15625 6.890625 40.078125 11.328125 \r\nQ 45.015625 15.765625 45.015625 23.390625 \r\nQ 45.015625 31 40.078125 35.4375 \r\nQ 35.15625 39.890625 26.703125 39.890625 \r\nQ 22.75 39.890625 18.8125 39.015625 \r\nQ 14.890625 38.140625 10.796875 36.28125 \r\nz\r\n\" id=\"DejaVuSans-53\"/>\r\n       </defs>\r\n       <use xlink:href=\"#DejaVuSans-48\"/>\r\n       <use x=\"63.623047\" xlink:href=\"#DejaVuSans-46\"/>\r\n       <use x=\"95.410156\" xlink:href=\"#DejaVuSans-48\"/>\r\n       <use x=\"159.033203\" xlink:href=\"#DejaVuSans-53\"/>\r\n      </g>\r\n     </g>\r\n    </g>\r\n    <g id=\"ytick_3\">\r\n     <g id=\"line2d_10\">\r\n      <g>\r\n       <use style=\"stroke:#000000;stroke-width:0.8;\" x=\"36.465625\" xlink:href=\"#m2912abe3c0\" y=\"159.766848\"/>\r\n      </g>\r\n     </g>\r\n     <g id=\"text_10\">\r\n      <!-- 0.10 -->\r\n      <g transform=\"translate(7.2 163.566066)scale(0.1 -0.1)\">\r\n       <defs>\r\n        <path d=\"M 12.40625 8.296875 \r\nL 28.515625 8.296875 \r\nL 28.515625 63.921875 \r\nL 10.984375 60.40625 \r\nL 10.984375 69.390625 \r\nL 28.421875 72.90625 \r\nL 38.28125 72.90625 \r\nL 38.28125 8.296875 \r\nL 54.390625 8.296875 \r\nL 54.390625 0 \r\nL 12.40625 0 \r\nz\r\n\" id=\"DejaVuSans-49\"/>\r\n       </defs>\r\n       <use xlink:href=\"#DejaVuSans-48\"/>\r\n       <use x=\"63.623047\" xlink:href=\"#DejaVuSans-46\"/>\r\n       <use x=\"95.410156\" xlink:href=\"#DejaVuSans-49\"/>\r\n       <use x=\"159.033203\" xlink:href=\"#DejaVuSans-48\"/>\r\n      </g>\r\n     </g>\r\n    </g>\r\n    <g id=\"ytick_4\">\r\n     <g id=\"line2d_11\">\r\n      <g>\r\n       <use style=\"stroke:#000000;stroke-width:0.8;\" x=\"36.465625\" xlink:href=\"#m2912abe3c0\" y=\"130.013322\"/>\r\n      </g>\r\n     </g>\r\n     <g id=\"text_11\">\r\n      <!-- 0.15 -->\r\n      <g transform=\"translate(7.2 133.812541)scale(0.1 -0.1)\">\r\n       <use xlink:href=\"#DejaVuSans-48\"/>\r\n       <use x=\"63.623047\" xlink:href=\"#DejaVuSans-46\"/>\r\n       <use x=\"95.410156\" xlink:href=\"#DejaVuSans-49\"/>\r\n       <use x=\"159.033203\" xlink:href=\"#DejaVuSans-53\"/>\r\n      </g>\r\n     </g>\r\n    </g>\r\n    <g id=\"ytick_5\">\r\n     <g id=\"line2d_12\">\r\n      <g>\r\n       <use style=\"stroke:#000000;stroke-width:0.8;\" x=\"36.465625\" xlink:href=\"#m2912abe3c0\" y=\"100.259796\"/>\r\n      </g>\r\n     </g>\r\n     <g id=\"text_12\">\r\n      <!-- 0.20 -->\r\n      <g transform=\"translate(7.2 104.059015)scale(0.1 -0.1)\">\r\n       <use xlink:href=\"#DejaVuSans-48\"/>\r\n       <use x=\"63.623047\" xlink:href=\"#DejaVuSans-46\"/>\r\n       <use x=\"95.410156\" xlink:href=\"#DejaVuSans-50\"/>\r\n       <use x=\"159.033203\" xlink:href=\"#DejaVuSans-48\"/>\r\n      </g>\r\n     </g>\r\n    </g>\r\n    <g id=\"ytick_6\">\r\n     <g id=\"line2d_13\">\r\n      <g>\r\n       <use style=\"stroke:#000000;stroke-width:0.8;\" x=\"36.465625\" xlink:href=\"#m2912abe3c0\" y=\"70.50627\"/>\r\n      </g>\r\n     </g>\r\n     <g id=\"text_13\">\r\n      <!-- 0.25 -->\r\n      <g transform=\"translate(7.2 74.305489)scale(0.1 -0.1)\">\r\n       <use xlink:href=\"#DejaVuSans-48\"/>\r\n       <use x=\"63.623047\" xlink:href=\"#DejaVuSans-46\"/>\r\n       <use x=\"95.410156\" xlink:href=\"#DejaVuSans-50\"/>\r\n       <use x=\"159.033203\" xlink:href=\"#DejaVuSans-53\"/>\r\n      </g>\r\n     </g>\r\n    </g>\r\n    <g id=\"ytick_7\">\r\n     <g id=\"line2d_14\">\r\n      <g>\r\n       <use style=\"stroke:#000000;stroke-width:0.8;\" x=\"36.465625\" xlink:href=\"#m2912abe3c0\" y=\"40.752745\"/>\r\n      </g>\r\n     </g>\r\n     <g id=\"text_14\">\r\n      <!-- 0.30 -->\r\n      <g transform=\"translate(7.2 44.551963)scale(0.1 -0.1)\">\r\n       <use xlink:href=\"#DejaVuSans-48\"/>\r\n       <use x=\"63.623047\" xlink:href=\"#DejaVuSans-46\"/>\r\n       <use x=\"95.410156\" xlink:href=\"#DejaVuSans-51\"/>\r\n       <use x=\"159.033203\" xlink:href=\"#DejaVuSans-48\"/>\r\n      </g>\r\n     </g>\r\n    </g>\r\n    <g id=\"ytick_8\">\r\n     <g id=\"line2d_15\">\r\n      <g>\r\n       <use style=\"stroke:#000000;stroke-width:0.8;\" x=\"36.465625\" xlink:href=\"#m2912abe3c0\" y=\"10.999219\"/>\r\n      </g>\r\n     </g>\r\n     <g id=\"text_15\">\r\n      <!-- 0.35 -->\r\n      <g transform=\"translate(7.2 14.798438)scale(0.1 -0.1)\">\r\n       <use xlink:href=\"#DejaVuSans-48\"/>\r\n       <use x=\"63.623047\" xlink:href=\"#DejaVuSans-46\"/>\r\n       <use x=\"95.410156\" xlink:href=\"#DejaVuSans-51\"/>\r\n       <use x=\"159.033203\" xlink:href=\"#DejaVuSans-53\"/>\r\n      </g>\r\n     </g>\r\n    </g>\r\n   </g>\r\n   <g id=\"patch_3\">\r\n    <path d=\"M 36.465625 226.936921 \r\nL 36.465625 9.496921 \r\n\" style=\"fill:none;stroke:#000000;stroke-linecap:square;stroke-linejoin:miter;stroke-width:0.8;\"/>\r\n   </g>\r\n   <g id=\"patch_4\">\r\n    <path d=\"M 188.647443 226.936921 \r\nL 188.647443 9.496921 \r\n\" style=\"fill:none;stroke:#000000;stroke-linecap:square;stroke-linejoin:miter;stroke-width:0.8;\"/>\r\n   </g>\r\n   <g id=\"patch_5\">\r\n    <path d=\"M 36.465625 226.936921 \r\nL 188.647443 226.936921 \r\n\" style=\"fill:none;stroke:#000000;stroke-linecap:square;stroke-linejoin:miter;stroke-width:0.8;\"/>\r\n   </g>\r\n   <g id=\"patch_6\">\r\n    <path d=\"M 36.465625 9.496921 \r\nL 188.647443 9.496921 \r\n\" style=\"fill:none;stroke:#000000;stroke-linecap:square;stroke-linejoin:miter;stroke-width:0.8;\"/>\r\n   </g>\r\n  </g>\r\n  <g id=\"axes_2\">\r\n   <g id=\"patch_7\">\r\n    <path d=\"M 219.083807 226.936921 \r\nL 371.265625 226.936921 \r\nL 371.265625 9.496921 \r\nL 219.083807 9.496921 \r\nz\r\n\" style=\"fill:#ffffff;\"/>\r\n   </g>\r\n   <g id=\"PathCollection_2\">\r\n    <g clip-path=\"url(#pdb274d1dd9)\">\r\n     <use style=\"fill:#1f77b4;stroke:#1f77b4;\" x=\"226.001162\" xlink:href=\"#m0933dc24d1\" y=\"112.786168\"/>\r\n     <use style=\"fill:#1f77b4;stroke:#1f77b4;\" x=\"233.687113\" xlink:href=\"#m0933dc24d1\" y=\"105.803984\"/>\r\n     <use style=\"fill:#1f77b4;stroke:#1f77b4;\" x=\"241.373063\" xlink:href=\"#m0933dc24d1\" y=\"93.225285\"/>\r\n     <use style=\"fill:#1f77b4;stroke:#1f77b4;\" x=\"249.059013\" xlink:href=\"#m0933dc24d1\" y=\"74.110174\"/>\r\n     <use style=\"fill:#1f77b4;stroke:#1f77b4;\" x=\"256.744964\" xlink:href=\"#m0933dc24d1\" y=\"50.495515\"/>\r\n     <use style=\"fill:#1f77b4;stroke:#1f77b4;\" x=\"264.430914\" xlink:href=\"#m0933dc24d1\" y=\"28.893943\"/>\r\n     <use style=\"fill:#1f77b4;stroke:#1f77b4;\" x=\"272.116865\" xlink:href=\"#m0933dc24d1\" y=\"19.380558\"/>\r\n     <use style=\"fill:#1f77b4;stroke:#1f77b4;\" x=\"279.802815\" xlink:href=\"#m0933dc24d1\" y=\"31.228218\"/>\r\n     <use style=\"fill:#1f77b4;stroke:#1f77b4;\" x=\"287.488765\" xlink:href=\"#m0933dc24d1\" y=\"66.834416\"/>\r\n     <use style=\"fill:#1f77b4;stroke:#1f77b4;\" x=\"295.174716\" xlink:href=\"#m0933dc24d1\" y=\"118.216921\"/>\r\n     <use style=\"fill:#1f77b4;stroke:#1f77b4;\" x=\"302.860666\" xlink:href=\"#m0933dc24d1\" y=\"169.599426\"/>\r\n     <use style=\"fill:#1f77b4;stroke:#1f77b4;\" x=\"310.546617\" xlink:href=\"#m0933dc24d1\" y=\"205.205624\"/>\r\n     <use style=\"fill:#1f77b4;stroke:#1f77b4;\" x=\"318.232567\" xlink:href=\"#m0933dc24d1\" y=\"217.053285\"/>\r\n     <use style=\"fill:#1f77b4;stroke:#1f77b4;\" x=\"325.918518\" xlink:href=\"#m0933dc24d1\" y=\"207.5399\"/>\r\n     <use style=\"fill:#1f77b4;stroke:#1f77b4;\" x=\"333.604468\" xlink:href=\"#m0933dc24d1\" y=\"185.938328\"/>\r\n     <use style=\"fill:#1f77b4;stroke:#1f77b4;\" x=\"341.290418\" xlink:href=\"#m0933dc24d1\" y=\"162.323669\"/>\r\n     <use style=\"fill:#1f77b4;stroke:#1f77b4;\" x=\"348.976369\" xlink:href=\"#m0933dc24d1\" y=\"143.208558\"/>\r\n     <use style=\"fill:#1f77b4;stroke:#1f77b4;\" x=\"356.662319\" xlink:href=\"#m0933dc24d1\" y=\"130.629859\"/>\r\n     <use style=\"fill:#1f77b4;stroke:#1f77b4;\" x=\"364.34827\" xlink:href=\"#m0933dc24d1\" y=\"123.647675\"/>\r\n    </g>\r\n   </g>\r\n   <g id=\"matplotlib.axis_3\">\r\n    <g id=\"xtick_8\">\r\n     <g id=\"line2d_16\">\r\n      <g>\r\n       <use style=\"stroke:#000000;stroke-width:0.8;\" x=\"226.001162\" xlink:href=\"#me58155022d\" y=\"226.936921\"/>\r\n      </g>\r\n     </g>\r\n     <g id=\"text_16\">\r\n      <!-- $-3\\sigma$ -->\r\n      <g transform=\"translate(215.451162 241.535359)scale(0.1 -0.1)\">\r\n       <use transform=\"translate(0 0.78125)\" xlink:href=\"#DejaVuSans-8722\"/>\r\n       <use transform=\"translate(83.789062 0.78125)\" xlink:href=\"#DejaVuSans-51\"/>\r\n       <use transform=\"translate(147.412109 0.78125)\" xlink:href=\"#DejaVuSans-Oblique-963\"/>\r\n      </g>\r\n     </g>\r\n    </g>\r\n    <g id=\"xtick_9\">\r\n     <g id=\"line2d_17\">\r\n      <g>\r\n       <use style=\"stroke:#000000;stroke-width:0.8;\" x=\"249.059013\" xlink:href=\"#me58155022d\" y=\"226.936921\"/>\r\n      </g>\r\n     </g>\r\n     <g id=\"text_17\">\r\n      <!-- $-2\\sigma$ -->\r\n      <g transform=\"translate(238.509013 241.535359)scale(0.1 -0.1)\">\r\n       <use transform=\"translate(0 0.78125)\" xlink:href=\"#DejaVuSans-8722\"/>\r\n       <use transform=\"translate(83.789062 0.78125)\" xlink:href=\"#DejaVuSans-50\"/>\r\n       <use transform=\"translate(147.412109 0.78125)\" xlink:href=\"#DejaVuSans-Oblique-963\"/>\r\n      </g>\r\n     </g>\r\n    </g>\r\n    <g id=\"xtick_10\">\r\n     <g id=\"line2d_18\">\r\n      <g>\r\n       <use style=\"stroke:#000000;stroke-width:0.8;\" x=\"272.116865\" xlink:href=\"#me58155022d\" y=\"226.936921\"/>\r\n      </g>\r\n     </g>\r\n     <g id=\"text_18\">\r\n      <!-- $-\\sigma$ -->\r\n      <g transform=\"translate(264.716865 241.535359)scale(0.1 -0.1)\">\r\n       <use transform=\"translate(0 0.265625)\" xlink:href=\"#DejaVuSans-8722\"/>\r\n       <use transform=\"translate(83.789062 0.265625)\" xlink:href=\"#DejaVuSans-Oblique-963\"/>\r\n      </g>\r\n     </g>\r\n    </g>\r\n    <g id=\"xtick_11\">\r\n     <g id=\"line2d_19\">\r\n      <g>\r\n       <use style=\"stroke:#000000;stroke-width:0.8;\" x=\"295.174716\" xlink:href=\"#me58155022d\" y=\"226.936921\"/>\r\n      </g>\r\n     </g>\r\n     <g id=\"text_19\">\r\n      <!-- 0 -->\r\n      <g transform=\"translate(291.993466 241.535359)scale(0.1 -0.1)\">\r\n       <use xlink:href=\"#DejaVuSans-48\"/>\r\n      </g>\r\n     </g>\r\n    </g>\r\n    <g id=\"xtick_12\">\r\n     <g id=\"line2d_20\">\r\n      <g>\r\n       <use style=\"stroke:#000000;stroke-width:0.8;\" x=\"318.232567\" xlink:href=\"#me58155022d\" y=\"226.936921\"/>\r\n      </g>\r\n     </g>\r\n     <g id=\"text_20\">\r\n      <!-- $\\sigma$ -->\r\n      <g transform=\"translate(315.032567 241.535359)scale(0.1 -0.1)\">\r\n       <use transform=\"translate(0 0.265625)\" xlink:href=\"#DejaVuSans-Oblique-963\"/>\r\n      </g>\r\n     </g>\r\n    </g>\r\n    <g id=\"xtick_13\">\r\n     <g id=\"line2d_21\">\r\n      <g>\r\n       <use style=\"stroke:#000000;stroke-width:0.8;\" x=\"341.290418\" xlink:href=\"#me58155022d\" y=\"226.936921\"/>\r\n      </g>\r\n     </g>\r\n     <g id=\"text_21\">\r\n      <!-- $2\\sigma$ -->\r\n      <g transform=\"translate(334.890418 241.535359)scale(0.1 -0.1)\">\r\n       <use transform=\"translate(0 0.78125)\" xlink:href=\"#DejaVuSans-50\"/>\r\n       <use transform=\"translate(63.623047 0.78125)\" xlink:href=\"#DejaVuSans-Oblique-963\"/>\r\n      </g>\r\n     </g>\r\n    </g>\r\n    <g id=\"xtick_14\">\r\n     <g id=\"line2d_22\">\r\n      <g>\r\n       <use style=\"stroke:#000000;stroke-width:0.8;\" x=\"364.34827\" xlink:href=\"#me58155022d\" y=\"226.936921\"/>\r\n      </g>\r\n     </g>\r\n     <g id=\"text_22\">\r\n      <!-- $3\\sigma$ -->\r\n      <g transform=\"translate(357.94827 241.535359)scale(0.1 -0.1)\">\r\n       <use transform=\"translate(0 0.78125)\" xlink:href=\"#DejaVuSans-51\"/>\r\n       <use transform=\"translate(63.623047 0.78125)\" xlink:href=\"#DejaVuSans-Oblique-963\"/>\r\n      </g>\r\n     </g>\r\n    </g>\r\n   </g>\r\n   <g id=\"matplotlib.axis_4\">\r\n    <g id=\"ytick_9\">\r\n     <g id=\"line2d_23\">\r\n      <g>\r\n       <use style=\"stroke:#000000;stroke-width:0.8;\" x=\"219.083807\" xlink:href=\"#m2912abe3c0\" y=\"224.490783\"/>\r\n      </g>\r\n     </g>\r\n     <g id=\"text_23\">\r\n      <!-- −0.4 -->\r\n      <g transform=\"translate(187.800994 228.290001)scale(0.1 -0.1)\">\r\n       <defs>\r\n        <path d=\"M 37.796875 64.3125 \r\nL 12.890625 25.390625 \r\nL 37.796875 25.390625 \r\nz\r\nM 35.203125 72.90625 \r\nL 47.609375 72.90625 \r\nL 47.609375 25.390625 \r\nL 58.015625 25.390625 \r\nL 58.015625 17.1875 \r\nL 47.609375 17.1875 \r\nL 47.609375 0 \r\nL 37.796875 0 \r\nL 37.796875 17.1875 \r\nL 4.890625 17.1875 \r\nL 4.890625 26.703125 \r\nz\r\n\" id=\"DejaVuSans-52\"/>\r\n       </defs>\r\n       <use xlink:href=\"#DejaVuSans-8722\"/>\r\n       <use x=\"83.789062\" xlink:href=\"#DejaVuSans-48\"/>\r\n       <use x=\"147.412109\" xlink:href=\"#DejaVuSans-46\"/>\r\n       <use x=\"179.199219\" xlink:href=\"#DejaVuSans-52\"/>\r\n      </g>\r\n     </g>\r\n    </g>\r\n    <g id=\"ytick_10\">\r\n     <g id=\"line2d_24\">\r\n      <g>\r\n       <use style=\"stroke:#000000;stroke-width:0.8;\" x=\"219.083807\" xlink:href=\"#m2912abe3c0\" y=\"197.922317\"/>\r\n      </g>\r\n     </g>\r\n     <g id=\"text_24\">\r\n      <!-- −0.3 -->\r\n      <g transform=\"translate(187.800994 201.721536)scale(0.1 -0.1)\">\r\n       <use xlink:href=\"#DejaVuSans-8722\"/>\r\n       <use x=\"83.789062\" xlink:href=\"#DejaVuSans-48\"/>\r\n       <use x=\"147.412109\" xlink:href=\"#DejaVuSans-46\"/>\r\n       <use x=\"179.199219\" xlink:href=\"#DejaVuSans-51\"/>\r\n      </g>\r\n     </g>\r\n    </g>\r\n    <g id=\"ytick_11\">\r\n     <g id=\"line2d_25\">\r\n      <g>\r\n       <use style=\"stroke:#000000;stroke-width:0.8;\" x=\"219.083807\" xlink:href=\"#m2912abe3c0\" y=\"171.353852\"/>\r\n      </g>\r\n     </g>\r\n     <g id=\"text_25\">\r\n      <!-- −0.2 -->\r\n      <g transform=\"translate(187.800994 175.153071)scale(0.1 -0.1)\">\r\n       <use xlink:href=\"#DejaVuSans-8722\"/>\r\n       <use x=\"83.789062\" xlink:href=\"#DejaVuSans-48\"/>\r\n       <use x=\"147.412109\" xlink:href=\"#DejaVuSans-46\"/>\r\n       <use x=\"179.199219\" xlink:href=\"#DejaVuSans-50\"/>\r\n      </g>\r\n     </g>\r\n    </g>\r\n    <g id=\"ytick_12\">\r\n     <g id=\"line2d_26\">\r\n      <g>\r\n       <use style=\"stroke:#000000;stroke-width:0.8;\" x=\"219.083807\" xlink:href=\"#m2912abe3c0\" y=\"144.785387\"/>\r\n      </g>\r\n     </g>\r\n     <g id=\"text_26\">\r\n      <!-- −0.1 -->\r\n      <g transform=\"translate(187.800994 148.584605)scale(0.1 -0.1)\">\r\n       <use xlink:href=\"#DejaVuSans-8722\"/>\r\n       <use x=\"83.789062\" xlink:href=\"#DejaVuSans-48\"/>\r\n       <use x=\"147.412109\" xlink:href=\"#DejaVuSans-46\"/>\r\n       <use x=\"179.199219\" xlink:href=\"#DejaVuSans-49\"/>\r\n      </g>\r\n     </g>\r\n    </g>\r\n    <g id=\"ytick_13\">\r\n     <g id=\"line2d_27\">\r\n      <g>\r\n       <use style=\"stroke:#000000;stroke-width:0.8;\" x=\"219.083807\" xlink:href=\"#m2912abe3c0\" y=\"118.216921\"/>\r\n      </g>\r\n     </g>\r\n     <g id=\"text_27\">\r\n      <!-- 0.0 -->\r\n      <g transform=\"translate(196.180682 122.01614)scale(0.1 -0.1)\">\r\n       <use xlink:href=\"#DejaVuSans-48\"/>\r\n       <use x=\"63.623047\" xlink:href=\"#DejaVuSans-46\"/>\r\n       <use x=\"95.410156\" xlink:href=\"#DejaVuSans-48\"/>\r\n      </g>\r\n     </g>\r\n    </g>\r\n    <g id=\"ytick_14\">\r\n     <g id=\"line2d_28\">\r\n      <g>\r\n       <use style=\"stroke:#000000;stroke-width:0.8;\" x=\"219.083807\" xlink:href=\"#m2912abe3c0\" y=\"91.648456\"/>\r\n      </g>\r\n     </g>\r\n     <g id=\"text_28\">\r\n      <!-- 0.1 -->\r\n      <g transform=\"translate(196.180682 95.447675)scale(0.1 -0.1)\">\r\n       <use xlink:href=\"#DejaVuSans-48\"/>\r\n       <use x=\"63.623047\" xlink:href=\"#DejaVuSans-46\"/>\r\n       <use x=\"95.410156\" xlink:href=\"#DejaVuSans-49\"/>\r\n      </g>\r\n     </g>\r\n    </g>\r\n    <g id=\"ytick_15\">\r\n     <g id=\"line2d_29\">\r\n      <g>\r\n       <use style=\"stroke:#000000;stroke-width:0.8;\" x=\"219.083807\" xlink:href=\"#m2912abe3c0\" y=\"65.079991\"/>\r\n      </g>\r\n     </g>\r\n     <g id=\"text_29\">\r\n      <!-- 0.2 -->\r\n      <g transform=\"translate(196.180682 68.879209)scale(0.1 -0.1)\">\r\n       <use xlink:href=\"#DejaVuSans-48\"/>\r\n       <use x=\"63.623047\" xlink:href=\"#DejaVuSans-46\"/>\r\n       <use x=\"95.410156\" xlink:href=\"#DejaVuSans-50\"/>\r\n      </g>\r\n     </g>\r\n    </g>\r\n    <g id=\"ytick_16\">\r\n     <g id=\"line2d_30\">\r\n      <g>\r\n       <use style=\"stroke:#000000;stroke-width:0.8;\" x=\"219.083807\" xlink:href=\"#m2912abe3c0\" y=\"38.511525\"/>\r\n      </g>\r\n     </g>\r\n     <g id=\"text_30\">\r\n      <!-- 0.3 -->\r\n      <g transform=\"translate(196.180682 42.310744)scale(0.1 -0.1)\">\r\n       <use xlink:href=\"#DejaVuSans-48\"/>\r\n       <use x=\"63.623047\" xlink:href=\"#DejaVuSans-46\"/>\r\n       <use x=\"95.410156\" xlink:href=\"#DejaVuSans-51\"/>\r\n      </g>\r\n     </g>\r\n    </g>\r\n    <g id=\"ytick_17\">\r\n     <g id=\"line2d_31\">\r\n      <g>\r\n       <use style=\"stroke:#000000;stroke-width:0.8;\" x=\"219.083807\" xlink:href=\"#m2912abe3c0\" y=\"11.94306\"/>\r\n      </g>\r\n     </g>\r\n     <g id=\"text_31\">\r\n      <!-- 0.4 -->\r\n      <g transform=\"translate(196.180682 15.742279)scale(0.1 -0.1)\">\r\n       <use xlink:href=\"#DejaVuSans-48\"/>\r\n       <use x=\"63.623047\" xlink:href=\"#DejaVuSans-46\"/>\r\n       <use x=\"95.410156\" xlink:href=\"#DejaVuSans-52\"/>\r\n      </g>\r\n     </g>\r\n    </g>\r\n   </g>\r\n   <g id=\"patch_8\">\r\n    <path d=\"M 219.083807 226.936921 \r\nL 219.083807 9.496921 \r\n\" style=\"fill:none;stroke:#000000;stroke-linecap:square;stroke-linejoin:miter;stroke-width:0.8;\"/>\r\n   </g>\r\n   <g id=\"patch_9\">\r\n    <path d=\"M 371.265625 226.936921 \r\nL 371.265625 9.496921 \r\n\" style=\"fill:none;stroke:#000000;stroke-linecap:square;stroke-linejoin:miter;stroke-width:0.8;\"/>\r\n   </g>\r\n   <g id=\"patch_10\">\r\n    <path d=\"M 219.083807 226.936921 \r\nL 371.265625 226.936921 \r\n\" style=\"fill:none;stroke:#000000;stroke-linecap:square;stroke-linejoin:miter;stroke-width:0.8;\"/>\r\n   </g>\r\n   <g id=\"patch_11\">\r\n    <path d=\"M 219.083807 9.496921 \r\nL 371.265625 9.496921 \r\n\" style=\"fill:none;stroke:#000000;stroke-linecap:square;stroke-linejoin:miter;stroke-width:0.8;\"/>\r\n   </g>\r\n  </g>\r\n </g>\r\n <defs>\r\n  <clipPath id=\"pd1bfaf4b0a\">\r\n   <rect height=\"217.44\" width=\"152.181818\" x=\"36.465625\" y=\"9.496921\"/>\r\n  </clipPath>\r\n  <clipPath id=\"pdb274d1dd9\">\r\n   <rect height=\"217.44\" width=\"152.181818\" x=\"219.083807\" y=\"9.496921\"/>\r\n  </clipPath>\r\n </defs>\r\n</svg>\r\n",
      "image/png": "[encoded data removed]"
     },
     "metadata": {
      "needs_background": "light"
     }
    }
   ],
   "source": [
    "## PLOTS ##\n",
    "sigma_list = ['$-3\\sigma$', '$-2\\sigma$', '$-\\sigma$', '0', '$\\sigma$', '$2\\sigma$', '$3\\sigma$']\n",
    "ticks = np.linspace(-3, 3, 7)\n",
    "\n",
    "sigma_ave = 5\n",
    "plt.subplot(1, 2, 1)\n",
    "kernel, x = averaging_kernel(sigma_ave)\n",
    "plt.xticks(sigma_ave*ticks, sigma_list)\n",
    "plt.scatter(x, kernel)\n",
    "\n",
    "sigma_diff = 3\n",
    "plt.subplot(1,2,2)\n",
    "kernel, x = differentiation_kernel(sigma_diff)\n",
    "plt.xticks(sigma_diff*ticks, sigma_list)\n",
    "plt.scatter(x, kernel)\n"
   ]
  },
  {
   "cell_type": "markdown",
   "metadata": {
    "tags": [
     "AST"
    ]
   },
   "source": [
    "### Problem 3.2"
   ]
  },
  {
   "source": [
    "Note: I was unable to reach the solution to this problem - I couldn't understand the pseudocode and I was confused by the actions of the kernels, gradients, given parameters and loss function in this problem. "
   ],
   "cell_type": "markdown",
   "metadata": {}
  },
  {
   "cell_type": "code",
   "execution_count": 211,
   "metadata": {
    "tags": [
     "AST"
    ]
   },
   "outputs": [],
   "source": [
    "import urllib.request\n",
    "import pickle\n",
    "from os import path as osp\n",
    "\n",
    "pickle_file_name = 'inputs.pkl'\n",
    "if not osp.exists(pickle_file_name):\n",
    "    fmt = 'https://www2.cs.duke.edu/courses/spring21/compsci527/homework/6/{}'\n",
    "    url = fmt.format(pickle_file_name)\n",
    "    urllib.request.urlretrieve(url, pickle_file_name)\n",
    "with open(pickle_file_name, 'rb') as file:\n",
    "    inputs = pickle.load(file)\n",
    "f, g = inputs['f'], inputs['g']"
   ]
  },
  {
   "source": [
    "params = {\n",
    "    \"window\" : 1.5,\n",
    "    \"differentiation\" : 1,\n",
    "    \"termination_delta\" : 10**(-3),\n",
    "    \"termination_epsilon\" : 10**(-6),\n",
    "    \"termination_rho\" : 10,\n",
    "    \"max_iterations\" : 30\n",
    "}\n"
   ],
   "cell_type": "code",
   "metadata": {},
   "execution_count": 212,
   "outputs": []
  },
  {
   "cell_type": "code",
   "execution_count": 221,
   "metadata": {},
   "outputs": [],
   "source": [
    "def lk_iterator(f, g, params):      \n",
    "\n",
    "        params['X'] = params['X'] + params['shift_g'] \n",
    "        params['j'] = g[params['X']]\n",
    "\n",
    "        gradient_kernel, gradient_x = differentiation_kernel(params['differentiation'])\n",
    "        A = gradient_x.T * (gradient_x * np.array([params['w'], params['w']]))\n",
    "        b = gradient_x.T * ((params['i'] - params['j']) * params['w'])\n",
    "        s = np.linalg.lstsq(A, b)\n",
    "        displacement_old = params['displacement']\n",
    "        params['displacement'] = params['displacement'] + s\n",
    "        \n",
    "        def L(d):\n",
    "            return np.sum((g[params['X'] + d] - f[params['X']])**2*params['w'])\n",
    "\n",
    "        if (np.linalg.norm(s) <= params['termination_delta']) or \\\n",
    "           (L(displacement_old) - L(params['displacement']) <= params['displacement_epsilon']):\n",
    "           done = True\n",
    "\n",
    "        if (np.linalg.norm(params['displacement']- displacement_old) > params['termination_rho'] or params['iteration'] > params['max_iterations']):\n",
    "            lost = True\n",
    "\n",
    "        return done, lost, params"
   ]
  },
  {
   "cell_type": "code",
   "execution_count": 256,
   "metadata": {},
   "outputs": [],
   "source": [
    "def lucas_kanade(f, g, params):\n",
    "\n",
    "    \n",
    "    # construct support of W, which is just [0, ..., 100] = omega where w(omega) > 0\n",
    "    half_width = 5          # Piazza @223  \n",
    "    Omega = np.linspace(0, 100, 101, dtype = int) \n",
    "    X_support_of_w = Omega[np.where(np.absolute(Omega) <= half_width)]\n",
    "    # use W indicator to build vector of nonzero values of w(x)\n",
    "    ave_kernel, w_x = averaging_kernel(params['window'])\n",
    "    \n",
    "    # window coords in f added to space\n",
    "    window_f = np.linspace(0, 10, 11, dtype = int) # the window is centered at position 2 with indices [0,1,2,3,4]\n",
    "    X_support = X_support_of_w + window_f   # add these coordinates to the set X\n",
    "    f_space = f[X_support]                  # find all coordinates of X in f\n",
    "\n",
    "    # initialize variables for iteration in the lucas kanade iterator\n",
    "\n",
    "    initialization_variables = {\n",
    "        'displacement' : np.zeros(f.shape),\n",
    "        'shift_g' : np.zeros(f.shape),\n",
    "        'X' : X_support,\n",
    "        'w' : w_x,\n",
    "        'i' : f_space,\n",
    "        'j' : None,\n",
    "        'iteration' : 0\n",
    "    }\n",
    "\n",
    "    # add these parameters to the parameters passed to lk iterator\n",
    "    params.update(initialization_variables)\n",
    "\n",
    "    done, lost = False, False\n",
    "\n",
    "    while (not (done or lost)): \n",
    "        params['iteration'] += 1\n",
    "        done, lost, params = lk_iterator(f, g, params)\n",
    "    \n",
    "    if lost:                        # no need to consider L_max (Piazza @236)\n",
    "        return None\n",
    "    else:\n",
    "        return displacement\n"
   ]
  },
  {
   "cell_type": "code",
   "execution_count": 257,
   "metadata": {},
   "outputs": [
    {
     "output_type": "error",
     "ename": "ValueError",
     "evalue": "operands could not be broadcast together with shapes (6,) (11,) ",
     "traceback": [
      "\u001b[1;31m---------------------------------------------------------------------------\u001b[0m",
      "\u001b[1;31mValueError\u001b[0m                                Traceback (most recent call last)",
      "\u001b[1;32m<ipython-input-257-fa8c73175557>\u001b[0m in \u001b[0;36m<module>\u001b[1;34m\u001b[0m\n\u001b[1;32m----> 1\u001b[1;33m \u001b[0mlucas_kanade\u001b[0m\u001b[1;33m(\u001b[0m\u001b[0mf\u001b[0m\u001b[1;33m,\u001b[0m \u001b[0mg\u001b[0m\u001b[1;33m,\u001b[0m \u001b[0mparams\u001b[0m\u001b[1;33m)\u001b[0m\u001b[1;33m\u001b[0m\u001b[1;33m\u001b[0m\u001b[0m\n\u001b[0m",
      "\u001b[1;32m<ipython-input-256-3bb8d561741d>\u001b[0m in \u001b[0;36mlucas_kanade\u001b[1;34m(f, g, params)\u001b[0m\n\u001b[0;32m     11\u001b[0m     \u001b[1;31m# window coords in f added to space\u001b[0m\u001b[1;33m\u001b[0m\u001b[1;33m\u001b[0m\u001b[1;33m\u001b[0m\u001b[0m\n\u001b[0;32m     12\u001b[0m     \u001b[0mwindow_f\u001b[0m \u001b[1;33m=\u001b[0m \u001b[0mnp\u001b[0m\u001b[1;33m.\u001b[0m\u001b[0mlinspace\u001b[0m\u001b[1;33m(\u001b[0m\u001b[1;36m0\u001b[0m\u001b[1;33m,\u001b[0m \u001b[1;36m10\u001b[0m\u001b[1;33m,\u001b[0m \u001b[1;36m11\u001b[0m\u001b[1;33m,\u001b[0m \u001b[0mdtype\u001b[0m \u001b[1;33m=\u001b[0m \u001b[0mint\u001b[0m\u001b[1;33m)\u001b[0m \u001b[1;31m# the window is centered at position 2 with indices [0,1,2,3,4]\u001b[0m\u001b[1;33m\u001b[0m\u001b[1;33m\u001b[0m\u001b[0m\n\u001b[1;32m---> 13\u001b[1;33m     \u001b[0mX_support\u001b[0m \u001b[1;33m=\u001b[0m \u001b[0mX_support_of_w\u001b[0m \u001b[1;33m+\u001b[0m \u001b[0mwindow_f\u001b[0m   \u001b[1;31m# add these coordinates to the set X\u001b[0m\u001b[1;33m\u001b[0m\u001b[1;33m\u001b[0m\u001b[0m\n\u001b[0m\u001b[0;32m     14\u001b[0m     \u001b[0mf_space\u001b[0m \u001b[1;33m=\u001b[0m \u001b[0mf\u001b[0m\u001b[1;33m[\u001b[0m\u001b[0mX_support\u001b[0m\u001b[1;33m]\u001b[0m                  \u001b[1;31m# find all coordinates of X in f\u001b[0m\u001b[1;33m\u001b[0m\u001b[1;33m\u001b[0m\u001b[0m\n\u001b[0;32m     15\u001b[0m \u001b[1;33m\u001b[0m\u001b[0m\n",
      "\u001b[1;31mValueError\u001b[0m: operands could not be broadcast together with shapes (6,) (11,) "
     ]
    }
   ],
   "source": [
    "lucas_kanade(f, g, params)"
   ]
  }
 ],
 "metadata": {
  "celltoolbar": "Tags",
  "kernelspec": {
   "display_name": "Python 3",
   "language": "python",
   "name": "python3"
  },
  "language_info": {
   "codemirror_mode": {
    "name": "ipython",
    "version": 3
   },
   "file_extension": ".py",
   "mimetype": "text/x-python",
   "name": "python",
   "nbconvert_exporter": "python",
   "pygments_lexer": "ipython3",
   "version": "3.8.5"
  },
  "pycharm": {
   "stem_cell": {
    "cell_type": "raw",
    "metadata": {
     "collapsed": false
    },
    "source": []
   }
  }
 },
 "nbformat": 4,
 "nbformat_minor": 2
}